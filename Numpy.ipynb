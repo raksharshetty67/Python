{
 "cells": [
  {
   "cell_type": "markdown",
   "id": "5f7bf4fa-290d-4b8a-8942-458704d3cf1e",
   "metadata": {},
   "source": [
    "## **Numpy**\n",
    "----------"
   ]
  },
  {
   "cell_type": "markdown",
   "id": "5eb3f6f3-b1ac-44d1-8a92-b7ad28a75606",
   "metadata": {},
   "source": [
    "\n",
    "\n",
    "### **Dimensions and Shape Of an Array**"
   ]
  },
  {
   "cell_type": "markdown",
   "id": "2d4b0d00-7023-4db6-a325-22462cf3ad12",
   "metadata": {},
   "source": [
    "##### **1) 32** - Scalar, 0Dimensional\n",
    "##### **2) [1,2]** -1Dimensional\n",
    "##### **3) [[1,2],[2,6]]** -2Dimensional"
   ]
  },
  {
   "cell_type": "code",
   "execution_count": 5,
   "id": "35abf3a3-eaaf-4953-a1dc-e1a85aa4b268",
   "metadata": {},
   "outputs": [],
   "source": [
    "array1 = np.array(32)\n",
    "array2 = np.array([1,2])\n",
    "array3 = np.array([[1,2],[2,6]])"
   ]
  },
  {
   "cell_type": "code",
   "execution_count": 8,
   "id": "5eea30fa-4004-49ac-bc90-10256571ee6b",
   "metadata": {},
   "outputs": [
    {
     "name": "stdout",
     "output_type": "stream",
     "text": [
      "0\n",
      "1\n",
      "2\n"
     ]
    }
   ],
   "source": [
    "print(array1.ndim)\n",
    "print(array2.ndim)\n",
    "print(array3.ndim)"
   ]
  },
  {
   "cell_type": "code",
   "execution_count": 9,
   "id": "018ecfa4-617a-4bdc-b6e9-76a3923ccf53",
   "metadata": {},
   "outputs": [],
   "source": [
    "array1 = np.array([])\n",
    "array2 = np.array([[]])\n",
    "array3 = np.array([[[]]])"
   ]
  },
  {
   "cell_type": "code",
   "execution_count": 10,
   "id": "66315585-1648-4118-ac57-54b5ddeedbce",
   "metadata": {},
   "outputs": [
    {
     "name": "stdout",
     "output_type": "stream",
     "text": [
      "1\n",
      "2\n",
      "3\n"
     ]
    }
   ],
   "source": [
    "print(array1.ndim)\n",
    "print(array2.ndim)\n",
    "print(array3.ndim)"
   ]
  },
  {
   "cell_type": "markdown",
   "id": "60f9194a-56af-49b8-bc97-61a86280d7af",
   "metadata": {},
   "source": [
    "---------\n",
    "\n",
    "### **Create Array**"
   ]
  },
  {
   "cell_type": "markdown",
   "id": "8f404097-cfc9-474e-80c3-e46d8daed514",
   "metadata": {},
   "source": [
    "#### **Method 0: By Using List or Tuple**"
   ]
  },
  {
   "cell_type": "code",
   "execution_count": 2,
   "id": "f6419873-f394-44d8-9a08-1ce1a9530d9a",
   "metadata": {},
   "outputs": [
    {
     "data": {
      "text/plain": [
       "array([1, 2, 3, 4, 5])"
      ]
     },
     "execution_count": 2,
     "metadata": {},
     "output_type": "execute_result"
    }
   ],
   "source": [
    "array1 = np.array([1,2,3,4,5])\n",
    "array1"
   ]
  },
  {
   "cell_type": "code",
   "execution_count": 3,
   "id": "02fca47a-0043-426d-9781-19b1660e44c3",
   "metadata": {},
   "outputs": [
    {
     "data": {
      "text/plain": [
       "array([1, 2, 3, 4, 5])"
      ]
     },
     "execution_count": 3,
     "metadata": {},
     "output_type": "execute_result"
    }
   ],
   "source": [
    "array1 = np.array((1,2,3,4,5))\n",
    "array1"
   ]
  },
  {
   "cell_type": "code",
   "execution_count": 4,
   "id": "8271f2e0-6c2d-4efb-ab6d-e8390f252ec1",
   "metadata": {},
   "outputs": [
    {
     "data": {
      "text/plain": [
       "array([1., 2., 3., 4., 5.])"
      ]
     },
     "execution_count": 4,
     "metadata": {},
     "output_type": "execute_result"
    }
   ],
   "source": [
    "array1 = np.array([1,2,3,4,5],dtype='float')\n",
    "array1"
   ]
  },
  {
   "cell_type": "code",
   "execution_count": 2,
   "id": "8775b4c1-d234-41a7-8bc7-e394f1e486df",
   "metadata": {},
   "outputs": [
    {
     "data": {
      "text/plain": [
       "array([1, 2, 3, 4, 5])"
      ]
     },
     "execution_count": 2,
     "metadata": {},
     "output_type": "execute_result"
    }
   ],
   "source": [
    "array1 = np.array([1,2,3,4,5])\n",
    "array1"
   ]
  },
  {
   "cell_type": "code",
   "execution_count": 2,
   "id": "24bde1a1-b3c6-49ee-8505-e8b05d17c7b2",
   "metadata": {},
   "outputs": [
    {
     "data": {
      "text/plain": [
       "array([1, 2, 3, 4, 5])"
      ]
     },
     "execution_count": 2,
     "metadata": {},
     "output_type": "execute_result"
    }
   ],
   "source": [
    "array1 = np.array([1,2,3,4,5])\n",
    "array1"
   ]
  },
  {
   "cell_type": "markdown",
   "id": "67467ba0-5ef4-4a20-a879-d4c187e9123f",
   "metadata": {},
   "source": [
    "#### **Method 1: Using arange**"
   ]
  },
  {
   "cell_type": "code",
   "execution_count": 11,
   "id": "40cbbbc5-ba98-4a77-9774-f9c0e6dd8f59",
   "metadata": {},
   "outputs": [
    {
     "data": {
      "text/plain": [
       "array([1, 2, 3, 4, 5, 6, 7, 8, 9])"
      ]
     },
     "execution_count": 11,
     "metadata": {},
     "output_type": "execute_result"
    }
   ],
   "source": [
    "array1 = np.arange(1,10)\n",
    "array1"
   ]
  },
  {
   "cell_type": "code",
   "execution_count": 12,
   "id": "89f38272-0e09-4763-b19a-7e6f0c23b917",
   "metadata": {},
   "outputs": [
    {
     "data": {
      "text/plain": [
       "array([1, 3, 5, 7, 9])"
      ]
     },
     "execution_count": 12,
     "metadata": {},
     "output_type": "execute_result"
    }
   ],
   "source": [
    "array1 = np.arange(1,10,2)\n",
    "array1"
   ]
  },
  {
   "cell_type": "markdown",
   "id": "81a2a3ae-09dd-44e7-813e-03dce7704b1f",
   "metadata": {},
   "source": [
    "#### **Method 2: Using linspace**"
   ]
  },
  {
   "cell_type": "code",
   "execution_count": 16,
   "id": "1ef095e2-d578-4214-bb57-0b075d6716ca",
   "metadata": {},
   "outputs": [
    {
     "data": {
      "text/plain": [
       "array([ 0.        ,  0.20408163,  0.40816327,  0.6122449 ,  0.81632653,\n",
       "        1.02040816,  1.2244898 ,  1.42857143,  1.63265306,  1.83673469,\n",
       "        2.04081633,  2.24489796,  2.44897959,  2.65306122,  2.85714286,\n",
       "        3.06122449,  3.26530612,  3.46938776,  3.67346939,  3.87755102,\n",
       "        4.08163265,  4.28571429,  4.48979592,  4.69387755,  4.89795918,\n",
       "        5.10204082,  5.30612245,  5.51020408,  5.71428571,  5.91836735,\n",
       "        6.12244898,  6.32653061,  6.53061224,  6.73469388,  6.93877551,\n",
       "        7.14285714,  7.34693878,  7.55102041,  7.75510204,  7.95918367,\n",
       "        8.16326531,  8.36734694,  8.57142857,  8.7755102 ,  8.97959184,\n",
       "        9.18367347,  9.3877551 ,  9.59183673,  9.79591837, 10.        ])"
      ]
     },
     "execution_count": 16,
     "metadata": {},
     "output_type": "execute_result"
    }
   ],
   "source": [
    "array1 = np.linspace(0,10)\n",
    "array1"
   ]
  },
  {
   "cell_type": "code",
   "execution_count": 17,
   "id": "dd0a3fd1-136d-41ea-a41b-d3fbecaa2164",
   "metadata": {},
   "outputs": [
    {
     "data": {
      "text/plain": [
       "array([ 0.        ,  3.33333333,  6.66666667, 10.        ])"
      ]
     },
     "execution_count": 17,
     "metadata": {},
     "output_type": "execute_result"
    }
   ],
   "source": [
    "array1 = np.linspace(0,10,4)\n",
    "array1"
   ]
  },
  {
   "cell_type": "markdown",
   "id": "3bcb9d73-0859-4de6-b5f6-97ee26f8ad7c",
   "metadata": {},
   "source": [
    "#### **Method 3: Array With all elements are Zero**"
   ]
  },
  {
   "cell_type": "code",
   "execution_count": 19,
   "id": "fbe316b8-7e51-4ffe-8ec2-0177ab721b85",
   "metadata": {},
   "outputs": [
    {
     "data": {
      "text/plain": [
       "array([0., 0., 0., 0., 0.])"
      ]
     },
     "execution_count": 19,
     "metadata": {},
     "output_type": "execute_result"
    }
   ],
   "source": [
    "array1 = np.zeros(5)\n",
    "array1"
   ]
  },
  {
   "cell_type": "code",
   "execution_count": 20,
   "id": "50b29d26-b91b-42e3-af12-fa395eb72028",
   "metadata": {},
   "outputs": [
    {
     "data": {
      "text/plain": [
       "array([[0., 0., 0., 0.],\n",
       "       [0., 0., 0., 0.]])"
      ]
     },
     "execution_count": 20,
     "metadata": {},
     "output_type": "execute_result"
    }
   ],
   "source": [
    "array2 = np.zeros([2,4])\n",
    "array2"
   ]
  },
  {
   "cell_type": "code",
   "execution_count": 21,
   "id": "4ec3fcd9-e51a-4e1f-a3a2-9af378617960",
   "metadata": {},
   "outputs": [
    {
     "data": {
      "text/plain": [
       "array([[0, 0, 0, 0],\n",
       "       [0, 0, 0, 0]])"
      ]
     },
     "execution_count": 21,
     "metadata": {},
     "output_type": "execute_result"
    }
   ],
   "source": [
    "array2 = np.zeros([2,4],dtype=\"int\")\n",
    "array2"
   ]
  },
  {
   "cell_type": "markdown",
   "id": "669f2b21-a50f-4abb-9c8d-3eb618ce4985",
   "metadata": {},
   "source": [
    "#### **Method 4: Array With all elements are Ones**"
   ]
  },
  {
   "cell_type": "code",
   "execution_count": 22,
   "id": "3738b8d4-4fcd-499c-9655-bbec6931942f",
   "metadata": {},
   "outputs": [
    {
     "data": {
      "text/plain": [
       "array([1., 1., 1., 1., 1.])"
      ]
     },
     "execution_count": 22,
     "metadata": {},
     "output_type": "execute_result"
    }
   ],
   "source": [
    "array1 = np.ones(5)\n",
    "array1"
   ]
  },
  {
   "cell_type": "code",
   "execution_count": 24,
   "id": "73b8cd57-026a-4300-932f-3f7b14ae894b",
   "metadata": {},
   "outputs": [
    {
     "data": {
      "text/plain": [
       "array([[1, 1, 1, 1, 1, 1],\n",
       "       [1, 1, 1, 1, 1, 1],\n",
       "       [1, 1, 1, 1, 1, 1],\n",
       "       [1, 1, 1, 1, 1, 1],\n",
       "       [1, 1, 1, 1, 1, 1],\n",
       "       [1, 1, 1, 1, 1, 1],\n",
       "       [1, 1, 1, 1, 1, 1]])"
      ]
     },
     "execution_count": 24,
     "metadata": {},
     "output_type": "execute_result"
    }
   ],
   "source": [
    "array1 = np.ones([7,6],dtype=\"int\")\n",
    "array1"
   ]
  },
  {
   "cell_type": "markdown",
   "id": "0af4adb0-7c77-4451-b45b-cc7078f375a4",
   "metadata": {},
   "source": [
    "#### **Method 5: Array Full of Any Value**"
   ]
  },
  {
   "cell_type": "code",
   "execution_count": 26,
   "id": "e5f8c893-8ceb-4df5-b93f-0f2781239c5f",
   "metadata": {},
   "outputs": [
    {
     "data": {
      "text/plain": [
       "array([8, 8, 8, 8, 8])"
      ]
     },
     "execution_count": 26,
     "metadata": {},
     "output_type": "execute_result"
    }
   ],
   "source": [
    "array1 = np.full(5,8)\n",
    "array1"
   ]
  },
  {
   "cell_type": "code",
   "execution_count": 27,
   "id": "98163e43-2af5-4b89-8f7a-736c81cd679c",
   "metadata": {},
   "outputs": [
    {
     "data": {
      "text/plain": [
       "array([[8, 8, 8, 8, 8, 8],\n",
       "       [8, 8, 8, 8, 8, 8]])"
      ]
     },
     "execution_count": 27,
     "metadata": {},
     "output_type": "execute_result"
    }
   ],
   "source": [
    "array1 = np.full([2,6],8)\n",
    "array1"
   ]
  },
  {
   "cell_type": "code",
   "execution_count": 28,
   "id": "9c8c4c74-3cf2-4a62-86bf-3e7b04fb329e",
   "metadata": {},
   "outputs": [
    {
     "data": {
      "text/plain": [
       "array([[6.7, 6.7, 6.7, 6.7, 6.7, 6.7],\n",
       "       [6.7, 6.7, 6.7, 6.7, 6.7, 6.7]])"
      ]
     },
     "execution_count": 28,
     "metadata": {},
     "output_type": "execute_result"
    }
   ],
   "source": [
    "array1 = np.full([2,6],6.7)\n",
    "array1"
   ]
  },
  {
   "cell_type": "markdown",
   "id": "11279dcb-2082-421b-9f29-cfbcdccfe311",
   "metadata": {},
   "source": [
    "#### **Method 6: Random Floats Between 0 to 1 - Based on Given Number How Much You Want**"
   ]
  },
  {
   "cell_type": "code",
   "execution_count": 36,
   "id": "95bf7dc5-d6b2-419e-a360-273dbac41f37",
   "metadata": {},
   "outputs": [
    {
     "data": {
      "text/plain": [
       "array([0.31257336, 0.62588048, 0.1113093 , 0.49147779, 0.94089409,\n",
       "       0.05200627, 0.72680887, 0.97585428, 0.42178215, 0.58754642])"
      ]
     },
     "execution_count": 36,
     "metadata": {},
     "output_type": "execute_result"
    }
   ],
   "source": [
    "array1 = np.random.rand(10)\n",
    "array1"
   ]
  },
  {
   "cell_type": "code",
   "execution_count": 35,
   "id": "6ed87b15-d73e-48af-b5ba-445e3fef8473",
   "metadata": {},
   "outputs": [
    {
     "data": {
      "text/plain": [
       "array([[0.29258267, 0.79830164],\n",
       "       [0.9752543 , 0.37986269]])"
      ]
     },
     "execution_count": 35,
     "metadata": {},
     "output_type": "execute_result"
    }
   ],
   "source": [
    "array1 = np.random.rand(2,2)\n",
    "array1"
   ]
  },
  {
   "cell_type": "markdown",
   "id": "9b4e6fd1-052d-49ba-af24-202dcdd7ac23",
   "metadata": {},
   "source": [
    "#### **Method 7: Random Integers**"
   ]
  },
  {
   "cell_type": "code",
   "execution_count": 43,
   "id": "c15cb2bf-9e46-473e-ab7f-879abec0a1ca",
   "metadata": {},
   "outputs": [
    {
     "data": {
      "text/plain": [
       "17"
      ]
     },
     "execution_count": 43,
     "metadata": {},
     "output_type": "execute_result"
    }
   ],
   "source": [
    "array1 = np.random.randint(1,100)\n",
    "array1"
   ]
  },
  {
   "cell_type": "code",
   "execution_count": 4,
   "id": "3957e46f-aa49-4f4d-ab22-e0f07c55a2cc",
   "metadata": {},
   "outputs": [
    {
     "data": {
      "text/plain": [
       "array([[ 2, 48],\n",
       "       [86, 73]])"
      ]
     },
     "execution_count": 4,
     "metadata": {},
     "output_type": "execute_result"
    }
   ],
   "source": [
    "array1 = np.random.randint(1,100,size=(2,2))\n",
    "array1"
   ]
  },
  {
   "cell_type": "markdown",
   "id": "a422d963-b679-4bcb-901a-c7818164b41c",
   "metadata": {},
   "source": [
    "#### **Method 8: Random Selection**"
   ]
  },
  {
   "cell_type": "code",
   "execution_count": 7,
   "id": "6be0afb8-b3c3-4120-8452-ec7db10046bf",
   "metadata": {},
   "outputs": [
    {
     "data": {
      "text/plain": [
       "50"
      ]
     },
     "execution_count": 7,
     "metadata": {},
     "output_type": "execute_result"
    }
   ],
   "source": [
    "arr = [10, 20, 30, 40, 50]\n",
    "np.random.choice(arr)  "
   ]
  },
  {
   "cell_type": "code",
   "execution_count": 21,
   "id": "a8631238-6d38-41a4-8e81-302a84ae7308",
   "metadata": {},
   "outputs": [
    {
     "data": {
      "text/plain": [
       "array([20, 20, 10])"
      ]
     },
     "execution_count": 21,
     "metadata": {},
     "output_type": "execute_result"
    }
   ],
   "source": [
    "arr = [10, 20, 30, 40, 50]\n",
    "np.random.choice(arr, size=3)  "
   ]
  },
  {
   "cell_type": "code",
   "execution_count": 18,
   "id": "29a9986e-ded2-4746-be5a-37457ac1521a",
   "metadata": {},
   "outputs": [
    {
     "data": {
      "text/plain": [
       "array([ 50, 100,  90, 100,  80])"
      ]
     },
     "execution_count": 18,
     "metadata": {},
     "output_type": "execute_result"
    }
   ],
   "source": [
    "arr = [10, 20, 30, 40, 50,60,70,80,90,100]\n",
    "np.random.choice(arr, size=5, replace=True) ## Duplicates Are Allowed"
   ]
  },
  {
   "cell_type": "code",
   "execution_count": 22,
   "id": "ff6865a5-8b91-4d4b-be84-b76343fcd713",
   "metadata": {},
   "outputs": [
    {
     "data": {
      "text/plain": [
       "array([ 60, 100,  80,  40,  10])"
      ]
     },
     "execution_count": 22,
     "metadata": {},
     "output_type": "execute_result"
    }
   ],
   "source": [
    "arr = [10, 20, 30, 40, 50,60,70,80,90,100]\n",
    "np.random.choice(arr, size=5, replace=False) ## Duplicates Are Not Allowed"
   ]
  },
  {
   "cell_type": "markdown",
   "id": "b450b014-d060-40f0-872c-b1257aad3670",
   "metadata": {},
   "source": [
    "#### **Method 9: Shuffling and Permutations**"
   ]
  },
  {
   "cell_type": "code",
   "execution_count": 25,
   "id": "26bb451a-6545-4f5f-b941-2e0b63b0c22b",
   "metadata": {},
   "outputs": [
    {
     "name": "stdout",
     "output_type": "stream",
     "text": [
      "[3 1 5 2 4]\n"
     ]
    }
   ],
   "source": [
    "arr = np.array([1, 2, 3, 4, 5])\n",
    "np.random.shuffle(arr)\n",
    "print(arr)                             #  Shuffle array in-place\n"
   ]
  },
  {
   "cell_type": "code",
   "execution_count": 27,
   "id": "8fce51b0-7b57-4973-a7d7-d2bea53aecf9",
   "metadata": {},
   "outputs": [
    {
     "name": "stdout",
     "output_type": "stream",
     "text": [
      "[1 2 3 4 5]\n"
     ]
    }
   ],
   "source": [
    "arr = np.array([1, 2, 3, 4, 5])\n",
    "shuffled = np.random.permutation(arr)\n",
    "print(arr)                             #    Get a shuffled copy (original remains the same)"
   ]
  },
  {
   "cell_type": "markdown",
   "id": "6e7c9031-ea19-4ddc-95de-3947f16de78e",
   "metadata": {},
   "source": [
    "### **Aggregate Functions**"
   ]
  },
  {
   "cell_type": "code",
   "execution_count": 29,
   "id": "a5377415-2f7b-46da-9104-ce5d805dc3e5",
   "metadata": {},
   "outputs": [
    {
     "name": "stdout",
     "output_type": "stream",
     "text": [
      "7\n",
      "90\n"
     ]
    }
   ],
   "source": [
    "# Calculates the total sum of values.\n",
    "a = np.array([1,2,4])\n",
    "b = np.array([[10,20],[20,40]])\n",
    "print(np.sum(a))\n",
    "print(np.sum(b))"
   ]
  },
  {
   "cell_type": "code",
   "execution_count": 30,
   "id": "848f7178-d3fe-4016-b04c-2a51ea49ddf5",
   "metadata": {},
   "outputs": [
    {
     "name": "stdout",
     "output_type": "stream",
     "text": [
      "2.3333333333333335\n",
      "22.5\n"
     ]
    }
   ],
   "source": [
    "# Returns the average (mean)\n",
    "print(np.mean(a))\n",
    "print(np.mean(b))"
   ]
  },
  {
   "cell_type": "code",
   "execution_count": 31,
   "id": "ff16724f-b6c7-4d1c-9dd2-cd48b091bb9d",
   "metadata": {},
   "outputs": [
    {
     "name": "stdout",
     "output_type": "stream",
     "text": [
      "4\n",
      "40\n",
      "1\n",
      "10\n"
     ]
    }
   ],
   "source": [
    "# Find the smallest / largest value.\n",
    "print(np.max(a))\n",
    "print(np.max(b))\n",
    "\n",
    "print(np.min(a))\n",
    "print(np.min(b))"
   ]
  },
  {
   "cell_type": "code",
   "execution_count": 32,
   "id": "4edf1077-4cc5-4b60-b1a8-ca34a70e9138",
   "metadata": {},
   "outputs": [
    {
     "name": "stdout",
     "output_type": "stream",
     "text": [
      "2.0\n",
      "20.0\n"
     ]
    }
   ],
   "source": [
    "# Returns the middle value.\n",
    "print(np.median(a))\n",
    "print(np.median(b))"
   ]
  },
  {
   "cell_type": "code",
   "execution_count": 25,
   "id": "c32b747c-2b67-45d8-898c-7b8d0cf3c4e4",
   "metadata": {},
   "outputs": [
    {
     "name": "stdout",
     "output_type": "stream",
     "text": [
      "1.247219128924647\n",
      "10.897247358851684\n"
     ]
    }
   ],
   "source": [
    "# Standard deviation (how spread out data is).\n",
    "print(np.std(a))\n",
    "print(np.std(b))"
   ]
  },
  {
   "cell_type": "code",
   "execution_count": 26,
   "id": "822aee1c-1b70-470d-8c5b-26549fdf0526",
   "metadata": {},
   "outputs": [
    {
     "name": "stdout",
     "output_type": "stream",
     "text": [
      "3.0\n"
     ]
    }
   ],
   "source": [
    "# Get the value at a specific percentile.\n",
    "print(np.percentile(a, 75))"
   ]
  },
  {
   "cell_type": "code",
   "execution_count": 27,
   "id": "79432aa1-2814-40d4-8528-d3fb2fffe0fc",
   "metadata": {},
   "outputs": [
    {
     "name": "stdout",
     "output_type": "stream",
     "text": [
      "[1 3 7]\n",
      "[10 30 50 90]\n"
     ]
    }
   ],
   "source": [
    "# Cumulative sum: Running totals over time.\n",
    "print(np.cumsum(a))\n",
    "print(np.cumsum(b))"
   ]
  },
  {
   "cell_type": "code",
   "execution_count": 28,
   "id": "50bd16c2-2f15-45ca-a1ad-2f19245a7661",
   "metadata": {},
   "outputs": [
    {
     "name": "stdout",
     "output_type": "stream",
     "text": [
      "0\n",
      "3\n"
     ]
    }
   ],
   "source": [
    "# Index (position) of min or max value.\n",
    "print(np.argmin(a))\n",
    "print(np.argmax(b))"
   ]
  },
  {
   "cell_type": "markdown",
   "id": "0af982ea-3254-49e3-92bb-3febc50a6a35",
   "metadata": {},
   "source": [
    "#### **Method 10: Random Seed (Reproducibility)**"
   ]
  },
  {
   "cell_type": "code",
   "execution_count": 28,
   "id": "9ef3ee2b-9505-46a8-8704-6a2d04b1d114",
   "metadata": {},
   "outputs": [],
   "source": [
    "np.random.seed(42)                      #    Using a seed ensures you get the same results every time you run the code."
   ]
  },
  {
   "cell_type": "code",
   "execution_count": 33,
   "id": "0991d6a1-37f1-4ae7-a64f-f3f72179fe89",
   "metadata": {},
   "outputs": [
    {
     "name": "stdout",
     "output_type": "stream",
     "text": [
      "[3 7 8 5 4]\n"
     ]
    }
   ],
   "source": [
    "# Usage of Seed\n",
    "\n",
    "import numpy as np\n",
    "print(np.random.randint(1, 10, 5))      #    Gives Different Results EveyTime"
   ]
  },
  {
   "cell_type": "code",
   "execution_count": 34,
   "id": "5fc533d5-96de-430f-a205-832fd80b2e88",
   "metadata": {},
   "outputs": [
    {
     "name": "stdout",
     "output_type": "stream",
     "text": [
      "[7 4 8 5 7]\n"
     ]
    }
   ],
   "source": [
    "import numpy as np\n",
    "\n",
    "np.random.seed(42)\n",
    "print(np.random.randint(1, 10, 5))      #    Gives Same Results EveyTime"
   ]
  },
  {
   "cell_type": "markdown",
   "id": "f53dbcd9-1c6d-4de7-bbe1-fcb09277596f",
   "metadata": {},
   "source": [
    "### **Element Wise Operation**"
   ]
  },
  {
   "cell_type": "code",
   "execution_count": 2,
   "id": "dd03ce40-8151-45cc-9581-b14cbc20d446",
   "metadata": {},
   "outputs": [
    {
     "name": "stdout",
     "output_type": "stream",
     "text": [
      "Addition: [11 22 33]\n",
      "Subtraction: [ 9 18 27]\n",
      "Multiplication: [10 40 90]\n",
      "Division: [10. 10. 10.]\n",
      "Power: [   10   400 27000]\n",
      "Modulus: [0 0 0]\n"
     ]
    }
   ],
   "source": [
    "a = np.array([10, 20, 30])\n",
    "b = np.array([1, 2, 3])\n",
    "\n",
    "print(\"Addition:\", a + b)          # [11 22 33]\n",
    "print(\"Subtraction:\", a - b)       # [ 9 18 27]\n",
    "print(\"Multiplication:\", a * b)    # [10 40 90]\n",
    "print(\"Division:\", a / b)          # [10. 10. 10.]\n",
    "print(\"Power:\", a ** b)            # [10 400 27000]\n",
    "print(\"Modulus:\", a % b)           # [0 0 0]"
   ]
  },
  {
   "cell_type": "code",
   "execution_count": 3,
   "id": "b94b4bcb-a7e3-46ac-9af1-b7a4cf77564d",
   "metadata": {},
   "outputs": [
    {
     "name": "stdout",
     "output_type": "stream",
     "text": [
      "[11 12 13]\n",
      "[ 5 10 15]\n"
     ]
    }
   ],
   "source": [
    "## Scalar\n",
    "\n",
    "a = np.array([1, 2, 3])\n",
    "print(a + 10)  # [11 12 13]\n",
    "print(a * 5)   # [ 5 10 15]"
   ]
  },
  {
   "cell_type": "code",
   "execution_count": 6,
   "id": "40ebaa8f-572a-4d7d-89d2-44d10c7b0ddf",
   "metadata": {},
   "outputs": [
    {
     "name": "stdout",
     "output_type": "stream",
     "text": [
      "[[11 22]\n",
      " [33 44]]\n",
      "[[ 10  40]\n",
      " [ 90 160]]\n"
     ]
    }
   ],
   "source": [
    "## Element Wise On 2D Arrays\n",
    "\n",
    "a = np.array([[1, 2], [3, 4]])\n",
    "b = np.array([[10, 20], [30, 40]])\n",
    "\n",
    "print(a + b)\n",
    "print(a * b)"
   ]
  },
  {
   "cell_type": "markdown",
   "id": "851abc6e-d306-4460-95a3-7e76c2fac12a",
   "metadata": {},
   "source": [
    "----------------"
   ]
  },
  {
   "cell_type": "markdown",
   "id": "e2549044-10d9-47c2-a536-8805ad2d8ab1",
   "metadata": {},
   "source": [
    "### **Array Attributes**"
   ]
  },
  {
   "cell_type": "code",
   "execution_count": 11,
   "id": "0e233fa8-4404-4520-b49e-864b344ec5ce",
   "metadata": {},
   "outputs": [],
   "source": [
    "a = np.array([10,20])\n",
    "b = np.array([[10,20],[60,70]])"
   ]
  },
  {
   "cell_type": "markdown",
   "id": "918c4beb-fd57-47cc-a237-5342f01205d8",
   "metadata": {},
   "source": [
    "#### **.shape**"
   ]
  },
  {
   "cell_type": "code",
   "execution_count": 12,
   "id": "72e597a7-cf49-4ca0-9795-618888c2e616",
   "metadata": {},
   "outputs": [
    {
     "name": "stdout",
     "output_type": "stream",
     "text": [
      "(2,)\n",
      "(2, 2)\n"
     ]
    }
   ],
   "source": [
    "print(a.shape)\n",
    "print(b.shape)"
   ]
  },
  {
   "cell_type": "markdown",
   "id": "f4a21ea7-bf22-4d98-b541-7b16762c8488",
   "metadata": {},
   "source": [
    "#### **.size**"
   ]
  },
  {
   "cell_type": "code",
   "execution_count": 13,
   "id": "d58ec5b7-d487-4e03-89ae-92ac2dd108cf",
   "metadata": {},
   "outputs": [
    {
     "name": "stdout",
     "output_type": "stream",
     "text": [
      "2\n",
      "4\n"
     ]
    }
   ],
   "source": [
    "print(a.size)\n",
    "print(b.size)"
   ]
  },
  {
   "cell_type": "markdown",
   "id": "a0790729-fc58-40a4-99be-ccff18b279e1",
   "metadata": {},
   "source": [
    "#### **.dtype**"
   ]
  },
  {
   "cell_type": "code",
   "execution_count": 14,
   "id": "f65d1a91-f7a7-4be8-8410-d6313d82408c",
   "metadata": {},
   "outputs": [
    {
     "name": "stdout",
     "output_type": "stream",
     "text": [
      "int32\n",
      "int32\n"
     ]
    }
   ],
   "source": [
    "print(a.dtype)\n",
    "print(b.dtype)"
   ]
  },
  {
   "cell_type": "markdown",
   "id": "f2550cb3-2065-4b4e-a784-9cf48d1a32b4",
   "metadata": {},
   "source": [
    "#### **.ndim**"
   ]
  },
  {
   "cell_type": "code",
   "execution_count": 16,
   "id": "bced368d-e2a9-4cc0-823c-31bca968bb8e",
   "metadata": {},
   "outputs": [
    {
     "name": "stdout",
     "output_type": "stream",
     "text": [
      "1\n",
      "2\n"
     ]
    }
   ],
   "source": [
    "print(a.ndim)\n",
    "print(b.ndim)"
   ]
  },
  {
   "cell_type": "markdown",
   "id": "fba44590-db2a-4b93-8751-5f5d9c1b6a0f",
   "metadata": {},
   "source": [
    "### **Advanced Manipulations**"
   ]
  },
  {
   "cell_type": "markdown",
   "id": "92ee9112-6c58-494e-9207-08a48eaa12d8",
   "metadata": {},
   "source": [
    "#### **.reshape**"
   ]
  },
  {
   "cell_type": "code",
   "execution_count": 5,
   "id": "ed9b07bc-9e05-4c7c-8164-43302c69dfda",
   "metadata": {},
   "outputs": [],
   "source": [
    "import numpy as np\n",
    "a = np.array([1, 2, 3, 4, 5, 6])\n",
    "b = a.reshape(2, 3)  # Reshape into 2 rows and 3 columns"
   ]
  },
  {
   "cell_type": "code",
   "execution_count": 6,
   "id": "f3873f1f-6dc8-440d-bbfc-23d3ff7fed20",
   "metadata": {},
   "outputs": [
    {
     "data": {
      "text/plain": [
       "array([[10],\n",
       "       [20],\n",
       "       [30],\n",
       "       [40]])"
      ]
     },
     "execution_count": 6,
     "metadata": {},
     "output_type": "execute_result"
    }
   ],
   "source": [
    "b = np.array([10,20,30,40]).reshape(4,1)\n",
    "b"
   ]
  },
  {
   "cell_type": "code",
   "execution_count": 7,
   "id": "289cbab1-f9d3-41f6-94dd-c444a6045c66",
   "metadata": {},
   "outputs": [
    {
     "data": {
      "text/plain": [
       "array([[ 1,  2,  3,  4,  5],\n",
       "       [ 6,  7,  8,  9, 10],\n",
       "       [11, 12, 13, 14, 15],\n",
       "       [16, 17, 18, 19, 20]])"
      ]
     },
     "execution_count": 7,
     "metadata": {},
     "output_type": "execute_result"
    }
   ],
   "source": [
    "b = np.arange(1,21).reshape(4,5)\n",
    "b"
   ]
  },
  {
   "cell_type": "markdown",
   "id": "0fc75428-e244-4566-baeb-66a6272a7791",
   "metadata": {},
   "source": [
    "#### **.flatten**"
   ]
  },
  {
   "cell_type": "code",
   "execution_count": 13,
   "id": "66be9a07-afde-494e-b9dc-6ca926957b1f",
   "metadata": {},
   "outputs": [
    {
     "data": {
      "text/plain": [
       "array([10, 20, 40, 50, 60])"
      ]
     },
     "execution_count": 13,
     "metadata": {},
     "output_type": "execute_result"
    }
   ],
   "source": [
    "array1 = np.array([10,20,40,50,60])\n",
    "array1.flatten()"
   ]
  },
  {
   "cell_type": "code",
   "execution_count": 15,
   "id": "645b85d2-4dab-4dc1-8806-e2c6013a0d63",
   "metadata": {},
   "outputs": [
    {
     "data": {
      "text/plain": [
       "array([10, 20, 40, 50, 60, 70])"
      ]
     },
     "execution_count": 15,
     "metadata": {},
     "output_type": "execute_result"
    }
   ],
   "source": [
    "array1 = np.array([[10,20],[40,50],[60,70]])\n",
    "array1.flatten()"
   ]
  },
  {
   "cell_type": "code",
   "execution_count": 16,
   "id": "545805a7-f209-43d8-8f67-c9dd0d1216e6",
   "metadata": {},
   "outputs": [
    {
     "data": {
      "text/plain": [
       "array([10, 20, 40, 50, 60, 70])"
      ]
     },
     "execution_count": 16,
     "metadata": {},
     "output_type": "execute_result"
    }
   ],
   "source": [
    "array1 = np.array([[[10,20],[40,50],[60,70]]])\n",
    "array1.flatten()"
   ]
  },
  {
   "cell_type": "markdown",
   "id": "ac84da3f-4426-4a51-b13c-9ec3e050c7bf",
   "metadata": {},
   "source": [
    "#### **.ravel**"
   ]
  },
  {
   "cell_type": "code",
   "execution_count": 25,
   "id": "7129d029-389d-4e7a-91f7-246f7a263b02",
   "metadata": {},
   "outputs": [
    {
     "data": {
      "text/plain": [
       "array([10, 20, 30, 40])"
      ]
     },
     "execution_count": 25,
     "metadata": {},
     "output_type": "execute_result"
    }
   ],
   "source": [
    "array1 = np.array([10,20,30,40])\n",
    "array1.ravel()"
   ]
  },
  {
   "cell_type": "code",
   "execution_count": 28,
   "id": "4b167fac-dc22-4629-8874-d2fc0ec7b356",
   "metadata": {},
   "outputs": [
    {
     "data": {
      "text/plain": [
       "array([10, 20, 30, 40])"
      ]
     },
     "execution_count": 28,
     "metadata": {},
     "output_type": "execute_result"
    }
   ],
   "source": [
    "array1 = np.array([[10,20],[30,40]])\n",
    "array1.ravel()"
   ]
  },
  {
   "cell_type": "code",
   "execution_count": 29,
   "id": "1659bf5f-99eb-4c12-8002-6dd82f70feec",
   "metadata": {},
   "outputs": [
    {
     "data": {
      "text/plain": [
       "array([10, 20, 30, 40])"
      ]
     },
     "execution_count": 29,
     "metadata": {},
     "output_type": "execute_result"
    }
   ],
   "source": [
    "array1 = np.array([[[10,20],[30,40]]])\n",
    "array1.ravel()"
   ]
  },
  {
   "cell_type": "markdown",
   "id": "2f9eb2fb-319e-480a-9854-8028bf3114ac",
   "metadata": {},
   "source": [
    "#### **.transpose**"
   ]
  },
  {
   "cell_type": "code",
   "execution_count": 61,
   "id": "cbcd7da0-4276-4204-9a56-e0eb4548a0f7",
   "metadata": {},
   "outputs": [
    {
     "data": {
      "text/plain": [
       "array([[1, 3],\n",
       "       [2, 4]])"
      ]
     },
     "execution_count": 61,
     "metadata": {},
     "output_type": "execute_result"
    }
   ],
   "source": [
    "a = np.array([[1, 2], [3, 4]])\n",
    "b = a.transpose()\n",
    "b"
   ]
  },
  {
   "cell_type": "code",
   "execution_count": 62,
   "id": "51d41a78-e567-41e1-b265-e1bcba5b9621",
   "metadata": {},
   "outputs": [
    {
     "data": {
      "text/plain": [
       "array([[[1],\n",
       "        [3],\n",
       "        [5]],\n",
       "\n",
       "       [[2],\n",
       "        [4],\n",
       "        [6]]])"
      ]
     },
     "execution_count": 62,
     "metadata": {},
     "output_type": "execute_result"
    }
   ],
   "source": [
    "a = np.array([[[1, 2], [3, 4],[5,6]]])\n",
    "b = a.transpose()\n",
    "b"
   ]
  },
  {
   "cell_type": "markdown",
   "id": "9b1154c0-9c05-456e-a6de-630f73af392c",
   "metadata": {},
   "source": [
    "---------------\n"
   ]
  },
  {
   "cell_type": "markdown",
   "id": "2a584b34-05b1-4310-bade-82fd3f956db3",
   "metadata": {},
   "source": [
    "### **Universal Functions**"
   ]
  },
  {
   "cell_type": "markdown",
   "id": "85a1df2a-54f7-4015-8c70-be29f6c0108a",
   "metadata": {},
   "source": [
    "#### **1) np.sqrt() – Square root**"
   ]
  },
  {
   "cell_type": "code",
   "execution_count": 66,
   "id": "5ffcd95e-dd18-4635-b6fa-c20df40f00a5",
   "metadata": {},
   "outputs": [
    {
     "name": "stdout",
     "output_type": "stream",
     "text": [
      "[2. 3. 4.]\n"
     ]
    }
   ],
   "source": [
    "import numpy as np\n",
    "\n",
    "a = np.array([4, 9, 16])\n",
    "b = np.sqrt(a)\n",
    "print(b)"
   ]
  },
  {
   "cell_type": "code",
   "execution_count": 70,
   "id": "cb87d1a5-acd1-486a-b958-0c318703d305",
   "metadata": {},
   "outputs": [
    {
     "data": {
      "text/plain": [
       "6.0"
      ]
     },
     "execution_count": 70,
     "metadata": {},
     "output_type": "execute_result"
    }
   ],
   "source": [
    "a = 36\n",
    "b = np.sqrt(a)\n",
    "b"
   ]
  },
  {
   "cell_type": "markdown",
   "id": "8d491f9c-f3ce-46c4-9f8c-6b2c5a42c681",
   "metadata": {},
   "source": [
    "#### **2) np.exp() – Exponential (eˣ)**"
   ]
  },
  {
   "cell_type": "code",
   "execution_count": 75,
   "id": "f9ac19ab-f808-4d05-97c8-04497e813eea",
   "metadata": {},
   "outputs": [
    {
     "name": "stdout",
     "output_type": "stream",
     "text": [
      "[ 2.71828183  7.3890561  20.08553692]\n"
     ]
    }
   ],
   "source": [
    "a = np.array([1, 2, 3])\n",
    "b = np.exp(a)\n",
    "print(b)  # [ 2.71828183  7.3890561  20.08553692 ]"
   ]
  },
  {
   "cell_type": "markdown",
   "id": "5a79b9c7-9aa4-4273-8f54-c2fac5e73efb",
   "metadata": {},
   "source": [
    "#### **3) np.log() – Natural logarithm (log base e)**"
   ]
  },
  {
   "cell_type": "code",
   "execution_count": 76,
   "id": "5d04eb21-7a17-42fc-9aa3-08bb3633fc8d",
   "metadata": {},
   "outputs": [
    {
     "name": "stdout",
     "output_type": "stream",
     "text": [
      "[0. 1. 2.]\n"
     ]
    }
   ],
   "source": [
    "a = np.array([1, np.e, np.e**2])\n",
    "b = np.log(a)\n",
    "print(b)  # [0. 1. 2.]"
   ]
  },
  {
   "cell_type": "markdown",
   "id": "bf6a82ad-041d-4620-a0ef-46ca14e0683a",
   "metadata": {},
   "source": [
    "#### **4) np.sin() – Sine (in radians)**"
   ]
  },
  {
   "cell_type": "code",
   "execution_count": 77,
   "id": "6a3b614b-ad84-4c25-9037-f3003b456278",
   "metadata": {},
   "outputs": [
    {
     "name": "stdout",
     "output_type": "stream",
     "text": [
      "[0.0000000e+00 1.0000000e+00 1.2246468e-16]\n"
     ]
    }
   ],
   "source": [
    "a = np.array([0, np.pi/2, np.pi])\n",
    "b = np.sin(a)\n",
    "print(b)  # [0. 1. 0.]"
   ]
  },
  {
   "cell_type": "markdown",
   "id": "919457d4-af39-4f44-bc9e-4292f0631ac4",
   "metadata": {},
   "source": [
    "#### **5) np.round() – Round to nearest whole number**"
   ]
  },
  {
   "cell_type": "code",
   "execution_count": 104,
   "id": "42dfb2d5-d7f8-4e45-9efa-54d9d5718ab2",
   "metadata": {},
   "outputs": [
    {
     "name": "stdout",
     "output_type": "stream",
     "text": [
      "[1. 2. 4.]\n"
     ]
    }
   ],
   "source": [
    "a = np.array([1.2, 2.5, 3.8])\n",
    "b = np.round(a)\n",
    "print(b)  # [1. 2. 4.]"
   ]
  },
  {
   "cell_type": "markdown",
   "id": "8901c4df-5cc7-4b11-a0c9-8020b5f38040",
   "metadata": {},
   "source": [
    "----------\n",
    "\n",
    "### **Set Operations**"
   ]
  },
  {
   "cell_type": "markdown",
   "id": "0103bae6-a063-438a-ae39-d079594cda60",
   "metadata": {},
   "source": [
    "#### **np.unique()**"
   ]
  },
  {
   "cell_type": "code",
   "execution_count": 79,
   "id": "a25295b5-8a1b-4637-a1e2-8aeec9e319e9",
   "metadata": {},
   "outputs": [
    {
     "name": "stdout",
     "output_type": "stream",
     "text": [
      "[1 2 3]\n"
     ]
    }
   ],
   "source": [
    "import numpy as np\n",
    "\n",
    "a = np.array([1, 2, 2, 3, 3, 3])\n",
    "result = np.unique(a)\n",
    "print(result)  # [1 2 3]"
   ]
  },
  {
   "cell_type": "code",
   "execution_count": 83,
   "id": "41c8799e-e727-4a0f-8e1f-377d53921326",
   "metadata": {},
   "outputs": [
    {
     "data": {
      "text/plain": [
       "array([1, 2, 3, 4, 5, 6])"
      ]
     },
     "execution_count": 83,
     "metadata": {},
     "output_type": "execute_result"
    }
   ],
   "source": [
    "b = np.array([[1,2,3,4],[2,3,5,6]])\n",
    "result = np.unique(b)\n",
    "result"
   ]
  },
  {
   "cell_type": "markdown",
   "id": "fd50e447-2602-45d4-9f14-3f3ba4a22e48",
   "metadata": {},
   "source": [
    "#### **np.intersect1d()**"
   ]
  },
  {
   "cell_type": "code",
   "execution_count": 99,
   "id": "b5cfa5c5-d0cd-4f9c-b87c-988f2ff290a6",
   "metadata": {},
   "outputs": [
    {
     "name": "stdout",
     "output_type": "stream",
     "text": [
      "[2 3]\n"
     ]
    }
   ],
   "source": [
    "a = np.array([1, 2, 3])\n",
    "b = np.array([2, 3, 4])\n",
    "\n",
    "result = np.intersect1d(a, b)\n",
    "print(result)  "
   ]
  },
  {
   "cell_type": "code",
   "execution_count": 102,
   "id": "ad168ed6-f92b-4c97-88a0-187a1115f079",
   "metadata": {},
   "outputs": [
    {
     "name": "stdout",
     "output_type": "stream",
     "text": [
      "[2 6 7]\n"
     ]
    }
   ],
   "source": [
    "a = np.array([[1, 2, 5, 6, 7, 8]])\n",
    "b = np.array([2, 3, 4, 6 , 7])\n",
    "\n",
    "result = np.intersect1d(a, b)\n",
    "print(result)  "
   ]
  },
  {
   "cell_type": "code",
   "execution_count": 103,
   "id": "23d4c7a7-a58d-4a43-b0c0-e231a782f6d6",
   "metadata": {},
   "outputs": [
    {
     "name": "stdout",
     "output_type": "stream",
     "text": [
      "[2 6 7]\n"
     ]
    }
   ],
   "source": [
    "a = np.array([[1, 2, 5, 6, 7, 8]])\n",
    "b = np.array([[2, 3, 4, 6 , 7]])\n",
    "\n",
    "result = np.intersect1d(a, b)\n",
    "print(result)  "
   ]
  },
  {
   "cell_type": "markdown",
   "id": "bf563fa8-9fb0-4f4c-a6fd-78f24a315e45",
   "metadata": {},
   "source": [
    "#### **np.union1d()**"
   ]
  },
  {
   "cell_type": "code",
   "execution_count": 87,
   "id": "838bbb1c-382a-4b1b-bcb1-5b8fb94ec27a",
   "metadata": {},
   "outputs": [
    {
     "name": "stdout",
     "output_type": "stream",
     "text": [
      "[1 2 3 4 5]\n"
     ]
    }
   ],
   "source": [
    "a = np.array([1, 2, 3])\n",
    "b = np.array([3, 4, 5])\n",
    "\n",
    "result = np.union1d(a, b)\n",
    "print(result)  # [1 2 3 4 5]"
   ]
  },
  {
   "cell_type": "code",
   "execution_count": 91,
   "id": "02752d74-5ccc-4a33-a6a3-62f1d33d318d",
   "metadata": {},
   "outputs": [
    {
     "name": "stdout",
     "output_type": "stream",
     "text": [
      "[1 2 3 4 5 6]\n"
     ]
    }
   ],
   "source": [
    "a = np.array([[1, 2, 3],[4,5,6]])\n",
    "b = np.array([3, 4, 5])\n",
    "\n",
    "result = np.union1d(a, b)\n",
    "print(result) "
   ]
  },
  {
   "cell_type": "code",
   "execution_count": 92,
   "id": "5ed36a67-59c7-4050-926a-cfb7a970e49c",
   "metadata": {},
   "outputs": [
    {
     "name": "stdout",
     "output_type": "stream",
     "text": [
      "[1 2 3 4 5 6 7 8 9]\n"
     ]
    }
   ],
   "source": [
    "a = np.array([[1, 2, 3],[4,5,6]])\n",
    "b = np.array([[3, 4, 5],[7,8,9]])\n",
    "\n",
    "result = np.union1d(a, b)\n",
    "print(result) "
   ]
  },
  {
   "cell_type": "markdown",
   "id": "909fc8a3-c154-4795-90e3-4c65158260de",
   "metadata": {},
   "source": [
    "----------\n",
    "\n",
    "### **Numpy Data Types and Type Casting**"
   ]
  },
  {
   "cell_type": "code",
   "execution_count": 45,
   "id": "321ebf68-9f42-4bdd-a9cc-d6b994107ea5",
   "metadata": {},
   "outputs": [
    {
     "data": {
      "text/plain": [
       "array([1, 2, 3, 4])"
      ]
     },
     "execution_count": 45,
     "metadata": {},
     "output_type": "execute_result"
    }
   ],
   "source": [
    "array1 = np.array([1,2,3,4])\n",
    "array1"
   ]
  },
  {
   "cell_type": "code",
   "execution_count": 46,
   "id": "85513fa4-c8b9-45c5-be54-d5039a77c3b1",
   "metadata": {},
   "outputs": [
    {
     "data": {
      "text/plain": [
       "array([1. , 2. , 3.2, 4. ])"
      ]
     },
     "execution_count": 46,
     "metadata": {},
     "output_type": "execute_result"
    }
   ],
   "source": [
    "array1 = np.array([1,2,3.2,4])\n",
    "array1"
   ]
  },
  {
   "cell_type": "code",
   "execution_count": 49,
   "id": "41f7d9b9-3769-48fc-935f-767357f19555",
   "metadata": {},
   "outputs": [
    {
     "name": "stdout",
     "output_type": "stream",
     "text": [
      "['string' '1' '2' '6.7']\n",
      "<U32\n"
     ]
    }
   ],
   "source": [
    "lst = [\"string\",1,2,6.7]\n",
    "array = np.array(lst)\n",
    "print(array)\n",
    "print(array.dtype)"
   ]
  },
  {
   "cell_type": "code",
   "execution_count": 52,
   "id": "c46d03f3-0de8-4a73-b287-9c00cd67cc25",
   "metadata": {},
   "outputs": [
    {
     "name": "stdout",
     "output_type": "stream",
     "text": [
      "[1. 2. 4.]\n",
      "float64\n"
     ]
    }
   ],
   "source": [
    "array1 = np.array([1,2,4],dtype=\"float64\")\n",
    "print(array1)\n",
    "print(array1.dtype)"
   ]
  },
  {
   "cell_type": "code",
   "execution_count": 53,
   "id": "72d4ea17-1405-4e1b-9c6c-3d2010981ae7",
   "metadata": {},
   "outputs": [
    {
     "name": "stdout",
     "output_type": "stream",
     "text": [
      "[1 2 4]\n",
      "int64\n"
     ]
    }
   ],
   "source": [
    "array1 = np.array([1.2,2.2,4],dtype=\"int64\")\n",
    "print(array1)\n",
    "print(array1.dtype)"
   ]
  },
  {
   "cell_type": "markdown",
   "id": "ae9f39f6-ebfd-4087-b08c-9bf01b381c19",
   "metadata": {},
   "source": [
    "-----------\n",
    "\n",
    "### **Type Casting: Using astype()**"
   ]
  },
  {
   "cell_type": "code",
   "execution_count": 57,
   "id": "2a536d60-22d8-46f8-9f21-755eb460cd57",
   "metadata": {},
   "outputs": [
    {
     "name": "stdout",
     "output_type": "stream",
     "text": [
      "[1 2 4]\n",
      "[1. 2. 4.]\n"
     ]
    }
   ],
   "source": [
    "array1 = np.array([1,2,4])\n",
    "print(array1)\n",
    "new_array = array1.astype('float64')\n",
    "print(new_array)"
   ]
  },
  {
   "cell_type": "markdown",
   "id": "e8098902-d0b2-45d3-932d-587245e382f8",
   "metadata": {},
   "source": [
    "---------\n",
    "\n",
    "### **Arithmetic Operations on Arrays**"
   ]
  },
  {
   "cell_type": "code",
   "execution_count": 33,
   "id": "7eff0d5c-b696-420c-ad07-84a0fb407d04",
   "metadata": {},
   "outputs": [],
   "source": [
    "array1 = np.array([1,2,3])\n",
    "array2 = np.array([4,5,6])"
   ]
  },
  {
   "cell_type": "code",
   "execution_count": 34,
   "id": "e12a8fe1-a922-4278-8788-f1f7142ae619",
   "metadata": {},
   "outputs": [
    {
     "name": "stdout",
     "output_type": "stream",
     "text": [
      "[5 7 9]\n",
      "[5 7 9]\n"
     ]
    }
   ],
   "source": [
    "# Addition\n",
    "print(array1+array2)\n",
    "print(np.add(array1,array2))"
   ]
  },
  {
   "cell_type": "code",
   "execution_count": 35,
   "id": "0127fd55-318e-4927-8408-e210334cd984",
   "metadata": {},
   "outputs": [
    {
     "name": "stdout",
     "output_type": "stream",
     "text": [
      "[-3 -3 -3]\n",
      "[-3 -3 -3]\n"
     ]
    }
   ],
   "source": [
    "# Subtraction\n",
    "print(array1-array2)\n",
    "print(np.subtract(array1,array2))"
   ]
  },
  {
   "cell_type": "code",
   "execution_count": 37,
   "id": "ac319540-55b1-4497-8eef-c83cef8fd582",
   "metadata": {},
   "outputs": [
    {
     "name": "stdout",
     "output_type": "stream",
     "text": [
      "[ 4 10 18]\n",
      "[ 4 10 18]\n"
     ]
    }
   ],
   "source": [
    "# Multiplication\n",
    "print(array1*array2)\n",
    "print(np.multiply(array1,array2))"
   ]
  },
  {
   "cell_type": "code",
   "execution_count": 39,
   "id": "4dedaa79-4df4-44a7-a282-91945464f075",
   "metadata": {},
   "outputs": [
    {
     "name": "stdout",
     "output_type": "stream",
     "text": [
      "[0.25 0.4  0.5 ]\n",
      "[0.25 0.4  0.5 ]\n"
     ]
    }
   ],
   "source": [
    "# Division\n",
    "print(array1/array2)\n",
    "print(np.divide(array1,array2))"
   ]
  },
  {
   "cell_type": "code",
   "execution_count": 41,
   "id": "c5ced241-050d-43d2-9d2b-25da5df75e74",
   "metadata": {},
   "outputs": [
    {
     "name": "stdout",
     "output_type": "stream",
     "text": [
      "[0 0 0]\n"
     ]
    }
   ],
   "source": [
    "# Integer Division\n",
    "print(array1//array2)"
   ]
  },
  {
   "cell_type": "code",
   "execution_count": 75,
   "id": "c4445387-4631-4006-8a87-1d2273d3b1c7",
   "metadata": {},
   "outputs": [
    {
     "name": "stdout",
     "output_type": "stream",
     "text": [
      "[0 1 0]\n"
     ]
    }
   ],
   "source": [
    "# Modulus\n",
    "print(array2%array1)"
   ]
  },
  {
   "cell_type": "code",
   "execution_count": 76,
   "id": "f64cdc9a-6729-4e35-8be5-e62891f8e9a0",
   "metadata": {},
   "outputs": [
    {
     "name": "stdout",
     "output_type": "stream",
     "text": [
      "[1 4 9]\n"
     ]
    }
   ],
   "source": [
    "# Exponent --> Power\n",
    "print(array1**2)"
   ]
  },
  {
   "cell_type": "markdown",
   "id": "4702aacb-fe91-4bc1-9e30-5f0d1b690994",
   "metadata": {},
   "source": [
    "---------------------\n",
    "### **Universal Functions**"
   ]
  },
  {
   "cell_type": "code",
   "execution_count": 77,
   "id": "189468a8-bbbd-49ce-84f5-9abd2b1c6f8d",
   "metadata": {},
   "outputs": [
    {
     "name": "stdout",
     "output_type": "stream",
     "text": [
      "[1.         1.41421356 1.73205081]\n"
     ]
    }
   ],
   "source": [
    "print(np.sqrt(array1))"
   ]
  },
  {
   "cell_type": "code",
   "execution_count": 79,
   "id": "8ab4b132-d34f-4411-adf2-9105e91ca0a4",
   "metadata": {},
   "outputs": [
    {
     "name": "stdout",
     "output_type": "stream",
     "text": [
      "[2.71828183 7.3890561 ]\n"
     ]
    }
   ],
   "source": [
    "print(np.exp([1,2]))"
   ]
  },
  {
   "cell_type": "markdown",
   "id": "0484f5df-fbf8-4834-b506-5ca9fbf0ff5c",
   "metadata": {},
   "source": [
    "-----------------\n",
    "\n",
    "### **Indexing and Slicing**"
   ]
  },
  {
   "cell_type": "code",
   "execution_count": 80,
   "id": "a03f0ac4-9809-4e7d-8a25-7e88e594c282",
   "metadata": {},
   "outputs": [],
   "source": [
    "array1 = np.array([1,2,4,5,6,7,8,9,10])"
   ]
  },
  {
   "cell_type": "code",
   "execution_count": 81,
   "id": "b3712fb2-621d-4de2-bb83-e8ec74e35895",
   "metadata": {},
   "outputs": [
    {
     "data": {
      "text/plain": [
       "1"
      ]
     },
     "execution_count": 81,
     "metadata": {},
     "output_type": "execute_result"
    }
   ],
   "source": [
    "array1[0]"
   ]
  },
  {
   "cell_type": "code",
   "execution_count": 82,
   "id": "3a9f57cd-330e-4f40-a6c7-fc33fa313442",
   "metadata": {},
   "outputs": [
    {
     "data": {
      "text/plain": [
       "10"
      ]
     },
     "execution_count": 82,
     "metadata": {},
     "output_type": "execute_result"
    }
   ],
   "source": [
    "array1[-1]"
   ]
  },
  {
   "cell_type": "code",
   "execution_count": 83,
   "id": "3578a4e3-d4d9-497d-9924-bad0fef5f2d8",
   "metadata": {},
   "outputs": [
    {
     "data": {
      "text/plain": [
       "array([1, 2, 4, 5])"
      ]
     },
     "execution_count": 83,
     "metadata": {},
     "output_type": "execute_result"
    }
   ],
   "source": [
    "array1[0:4]"
   ]
  },
  {
   "cell_type": "code",
   "execution_count": 84,
   "id": "d3f0bb48-5716-4302-8cd3-e246aac09daf",
   "metadata": {},
   "outputs": [
    {
     "data": {
      "text/plain": [
       "array([1, 4])"
      ]
     },
     "execution_count": 84,
     "metadata": {},
     "output_type": "execute_result"
    }
   ],
   "source": [
    "array1[0:4:2]"
   ]
  },
  {
   "cell_type": "code",
   "execution_count": 85,
   "id": "c208662a-7f4d-4214-b8e0-1990bd4ffdf6",
   "metadata": {},
   "outputs": [
    {
     "data": {
      "text/plain": [
       "array([10,  9,  8])"
      ]
     },
     "execution_count": 85,
     "metadata": {},
     "output_type": "execute_result"
    }
   ],
   "source": [
    "array1[-1:-4:-1]"
   ]
  },
  {
   "cell_type": "code",
   "execution_count": 87,
   "id": "799e33c4-4129-4d39-adae-16bfe863e281",
   "metadata": {},
   "outputs": [
    {
     "data": {
      "text/plain": [
       "array([10,  8,  6,  4,  1])"
      ]
     },
     "execution_count": 87,
     "metadata": {},
     "output_type": "execute_result"
    }
   ],
   "source": [
    "array1[-1::-2]"
   ]
  },
  {
   "cell_type": "code",
   "execution_count": 88,
   "id": "255a82b5-f798-41e8-8fe6-20bd628f6810",
   "metadata": {},
   "outputs": [
    {
     "name": "stdout",
     "output_type": "stream",
     "text": [
      "[[1 2 3]\n",
      " [4 5 6]]\n"
     ]
    }
   ],
   "source": [
    "matrix = np.array([[1,2,3],[4,5,6],[7,8,9]])\n",
    "print(matrix[0:2])"
   ]
  },
  {
   "cell_type": "code",
   "execution_count": 89,
   "id": "921e3932-66d8-4fee-8be6-bb535b1ccc17",
   "metadata": {},
   "outputs": [
    {
     "name": "stdout",
     "output_type": "stream",
     "text": [
      "[[1]\n",
      " [4]]\n"
     ]
    }
   ],
   "source": [
    "matrix = np.array([[1,2,3],[4,5,6],[7,8,9]])\n",
    "print(matrix[0:2,:1])"
   ]
  },
  {
   "cell_type": "markdown",
   "id": "0d837ff0-1f2c-46e4-85fd-c802e6d373fc",
   "metadata": {},
   "source": [
    "#### **Transpose**"
   ]
  },
  {
   "cell_type": "code",
   "execution_count": 90,
   "id": "3b7c6c29-bbfd-435f-a729-ceb3f67c4735",
   "metadata": {},
   "outputs": [
    {
     "name": "stdout",
     "output_type": "stream",
     "text": [
      "[[1 4 7]\n",
      " [2 5 8]\n",
      " [3 6 9]]\n"
     ]
    }
   ],
   "source": [
    "matrix = np.array([[1,2,3],[4,5,6],[7,8,9]])\n",
    "print(matrix.T)"
   ]
  },
  {
   "cell_type": "markdown",
   "id": "d1dec7c5-a5ca-4928-ba97-370b20c173c3",
   "metadata": {},
   "source": [
    "----------------\n",
    "\n",
    "### **Stacking**\n",
    "#### **Concatenation - vstack and hstack**"
   ]
  },
  {
   "cell_type": "markdown",
   "id": "24e6040f-3914-49c0-8d7c-b5b13d66ed77",
   "metadata": {},
   "source": [
    "#### **vstack**"
   ]
  },
  {
   "cell_type": "code",
   "execution_count": 31,
   "id": "d7a3b565-a506-442d-97d5-d6b8aff02e7c",
   "metadata": {},
   "outputs": [
    {
     "name": "stdout",
     "output_type": "stream",
     "text": [
      "[[10 20 30 40]\n",
      " [40 50 60 70]]\n"
     ]
    }
   ],
   "source": [
    "array1 = np.array([10, 20, 30, 40])\n",
    "array2 = np.array([40, 50, 60, 70])\n",
    "array3 = np.vstack((array1, array2))\n",
    "print(array3)"
   ]
  },
  {
   "cell_type": "code",
   "execution_count": 34,
   "id": "017288cd-5d2f-4e24-9786-932e97e05c2c",
   "metadata": {},
   "outputs": [
    {
     "name": "stdout",
     "output_type": "stream",
     "text": [
      "[[10 20 30 40]\n",
      " [50 60 70 80]\n",
      " [40 50 60 70]]\n"
     ]
    }
   ],
   "source": [
    "array1 = np.array([[10, 20, 30, 40],[50,60,70,80]])\n",
    "array2 = np.array([40, 50, 60, 70])\n",
    "array3 = np.vstack((array1, array2))\n",
    "print(array3)"
   ]
  },
  {
   "cell_type": "code",
   "execution_count": 35,
   "id": "714670d2-9aeb-41ab-a9a3-2b8ee019a1e3",
   "metadata": {},
   "outputs": [
    {
     "name": "stdout",
     "output_type": "stream",
     "text": [
      "[[10 20 30 40]\n",
      " [50 60 70 80]\n",
      " [40 50 60 70]]\n"
     ]
    }
   ],
   "source": [
    "array1 = np.array([[10, 20, 30, 40],[50,60,70,80]])\n",
    "array2 = np.array([[40, 50, 60, 70]])\n",
    "array3 = np.vstack((array1, array2))\n",
    "print(array3)"
   ]
  },
  {
   "cell_type": "markdown",
   "id": "84d66dd7-3b95-4c60-a2d7-c2a4f079ac30",
   "metadata": {},
   "source": [
    "#### **.hstack**"
   ]
  },
  {
   "cell_type": "code",
   "execution_count": 40,
   "id": "a5840fe8-e467-4a54-bea6-f3d046f4e772",
   "metadata": {},
   "outputs": [
    {
     "data": {
      "text/plain": [
       "array([1, 2, 3, 4])"
      ]
     },
     "execution_count": 40,
     "metadata": {},
     "output_type": "execute_result"
    }
   ],
   "source": [
    "array1 = np.array([1,2])\n",
    "array2 = np.array([3,4])\n",
    "new_array = np.hstack([array1,array2])\n",
    "new_array"
   ]
  },
  {
   "cell_type": "code",
   "execution_count": 41,
   "id": "0e65b318-5d40-4df5-9a6e-5465dcc3d6a9",
   "metadata": {},
   "outputs": [
    {
     "data": {
      "text/plain": [
       "array([1, 2, 3, 4, 3, 4])"
      ]
     },
     "execution_count": 41,
     "metadata": {},
     "output_type": "execute_result"
    }
   ],
   "source": [
    "array1 = np.array([1,2,3,4])\n",
    "array2 = np.array([3,4])\n",
    "new_array = np.hstack([array1,array2])\n",
    "new_array"
   ]
  },
  {
   "cell_type": "code",
   "execution_count": 42,
   "id": "51293c09-a2b0-49da-a853-56862e26efdd",
   "metadata": {},
   "outputs": [
    {
     "data": {
      "text/plain": [
       "array([[1, 2, 3, 4],\n",
       "       [4, 5, 5, 6]])"
      ]
     },
     "execution_count": 42,
     "metadata": {},
     "output_type": "execute_result"
    }
   ],
   "source": [
    "array1 = np.array([[1,2],[4,5]])\n",
    "array2 = np.array([[3,4],[5,6]])\n",
    "new_array = np.hstack([array1,array2])\n",
    "new_array"
   ]
  },
  {
   "cell_type": "markdown",
   "id": "8fca69e5-4896-4bea-91dd-80131a3f60cc",
   "metadata": {},
   "source": [
    "\n",
    "\n",
    "#### **Splitting Of an Array**"
   ]
  },
  {
   "cell_type": "code",
   "execution_count": 49,
   "id": "f9689edc-70bc-4dfd-95d3-173d5ac8345e",
   "metadata": {},
   "outputs": [
    {
     "data": {
      "text/plain": [
       "[array([10, 20]), array([30, 40]), array([50, 60])]"
      ]
     },
     "execution_count": 49,
     "metadata": {},
     "output_type": "execute_result"
    }
   ],
   "source": [
    "a = np.array([10, 20, 30, 40, 50, 60])\n",
    "result = np.split(a, 3)\n",
    "result"
   ]
  },
  {
   "cell_type": "code",
   "execution_count": 50,
   "id": "186adaa3-b5fb-46a7-92de-e9c9e54b5d72",
   "metadata": {},
   "outputs": [
    {
     "data": {
      "text/plain": [
       "[array([[1, 2],\n",
       "        [5, 6]]),\n",
       " array([[3, 4],\n",
       "        [7, 8]])]"
      ]
     },
     "execution_count": 50,
     "metadata": {},
     "output_type": "execute_result"
    }
   ],
   "source": [
    "a = np.array([[1, 2, 3, 4],\n",
    "              [5, 6, 7, 8]])\n",
    "result = np.split(a, 2, axis=1)  # Split along columns\n",
    "result"
   ]
  },
  {
   "cell_type": "markdown",
   "id": "ed87dac9-cf25-466b-84fc-3205f6ed653e",
   "metadata": {},
   "source": [
    "--------\n",
    "### **Repeating**\n",
    "- It Repeats Each Element "
   ]
  },
  {
   "cell_type": "code",
   "execution_count": 9,
   "id": "bd1722b1-cf29-44dc-8db2-ea3d5a81760a",
   "metadata": {},
   "outputs": [
    {
     "name": "stdout",
     "output_type": "stream",
     "text": [
      "[1 1 2 2 4 4]\n"
     ]
    }
   ],
   "source": [
    "array1 = np.array([1,2,4])\n",
    "print(np.repeat(array1,2))"
   ]
  },
  {
   "cell_type": "code",
   "execution_count": 10,
   "id": "e9cec06c-f215-47a4-a158-cd1d1f644a1e",
   "metadata": {},
   "outputs": [
    {
     "name": "stdout",
     "output_type": "stream",
     "text": [
      "[1 1 1 1 2 2 2 2 4 4 4 4]\n"
     ]
    }
   ],
   "source": [
    "print(np.repeat(array1,4))"
   ]
  },
  {
   "cell_type": "markdown",
   "id": "bdee3bbb-7a49-4555-a79b-81c61b65c543",
   "metadata": {},
   "source": [
    "### **tile**"
   ]
  },
  {
   "cell_type": "markdown",
   "id": "54cd1cdf-2a2c-4c4a-9c97-1b66895fe0a8",
   "metadata": {},
   "source": [
    "- It Repeats Whole Array"
   ]
  },
  {
   "cell_type": "code",
   "execution_count": 11,
   "id": "eea33fa2-9fbb-4310-bc7e-8f8c41220b28",
   "metadata": {},
   "outputs": [
    {
     "name": "stdout",
     "output_type": "stream",
     "text": [
      "[1 2 4 1 2 4]\n"
     ]
    }
   ],
   "source": [
    "print(np.tile(array1,2))"
   ]
  },
  {
   "cell_type": "code",
   "execution_count": 12,
   "id": "3276ba27-c1da-47ef-a2c6-b98d5e899df0",
   "metadata": {},
   "outputs": [
    {
     "name": "stdout",
     "output_type": "stream",
     "text": [
      "[1 1 1 1 2 2 2 2 4 4 4 4]\n"
     ]
    }
   ],
   "source": [
    "print(np.repeat(array1,4))"
   ]
  },
  {
   "cell_type": "markdown",
   "id": "2b47e50c-c4a7-4134-8606-a2bde97fadb7",
   "metadata": {},
   "source": [
    "-----\n",
    "\n",
    "### **Aggregate Functions**\n",
    "- It is Used to Summarize the array."
   ]
  },
  {
   "cell_type": "code",
   "execution_count": 13,
   "id": "4e02b6b2-4d8b-434b-a792-1707151be25b",
   "metadata": {},
   "outputs": [
    {
     "data": {
      "text/plain": [
       "array([[ 1,  2,  3,  4,  5,  6],\n",
       "       [ 7,  8,  9, 10, 11, 12],\n",
       "       [13, 14, 15, 16, 17, 18],\n",
       "       [19, 20, 21, 22, 23, 24],\n",
       "       [25, 26, 27, 28, 29, 30],\n",
       "       [31, 32, 33, 34, 35, 36]])"
      ]
     },
     "execution_count": 13,
     "metadata": {},
     "output_type": "execute_result"
    }
   ],
   "source": [
    "array1 = np.array([[1,2,3,4,5,6],\n",
    "                   [7,8,9,10,11,12],\n",
    "                   [13,14,15,16,17,18],\n",
    "                   [19,20,21,22,23,24],\n",
    "                   [25,26,27,28,29,30],\n",
    "                   [31,32,33,34,35,36]])\n",
    "array1"
   ]
  },
  {
   "cell_type": "code",
   "execution_count": 14,
   "id": "f33a7d44-a3e8-407b-8b1f-d50a54e5deca",
   "metadata": {},
   "outputs": [
    {
     "name": "stdout",
     "output_type": "stream",
     "text": [
      "666\n"
     ]
    }
   ],
   "source": [
    "print(np.sum(array1))"
   ]
  },
  {
   "cell_type": "code",
   "execution_count": 15,
   "id": "5f737555-a264-4f43-b4d4-97bbd825668a",
   "metadata": {},
   "outputs": [
    {
     "name": "stdout",
     "output_type": "stream",
     "text": [
      "18.5\n"
     ]
    }
   ],
   "source": [
    "# Average\n",
    "print(np.mean(array1))"
   ]
  },
  {
   "cell_type": "code",
   "execution_count": 16,
   "id": "d19a5f81-affb-475b-84cf-4c8a71354994",
   "metadata": {},
   "outputs": [
    {
     "name": "stdout",
     "output_type": "stream",
     "text": [
      "18.5\n"
     ]
    }
   ],
   "source": [
    "print(np.median(array1))"
   ]
  },
  {
   "cell_type": "code",
   "execution_count": 17,
   "id": "39eb9444-90d6-4d73-b6f6-e9d9e3e73c17",
   "metadata": {},
   "outputs": [
    {
     "name": "stdout",
     "output_type": "stream",
     "text": [
      "10.388294694831615\n"
     ]
    }
   ],
   "source": [
    "print(np.std(array1))"
   ]
  },
  {
   "cell_type": "code",
   "execution_count": 18,
   "id": "527f4898-1154-4831-8cb1-bdd2cf407bdf",
   "metadata": {},
   "outputs": [
    {
     "name": "stdout",
     "output_type": "stream",
     "text": [
      "107.91666666666667\n"
     ]
    }
   ],
   "source": [
    "print(np.var(array1))"
   ]
  },
  {
   "cell_type": "code",
   "execution_count": 19,
   "id": "30d25115-a215-4480-981a-cfd595b229f0",
   "metadata": {},
   "outputs": [
    {
     "name": "stdout",
     "output_type": "stream",
     "text": [
      "1\n"
     ]
    }
   ],
   "source": [
    "print(np.min(array1))"
   ]
  },
  {
   "cell_type": "code",
   "execution_count": 20,
   "id": "0331699b-a9de-4785-8eb6-050395b96ff3",
   "metadata": {},
   "outputs": [
    {
     "name": "stdout",
     "output_type": "stream",
     "text": [
      "36\n"
     ]
    }
   ],
   "source": [
    "print(np.max(array1))"
   ]
  },
  {
   "cell_type": "code",
   "execution_count": 22,
   "id": "0fda8640-6750-4ba3-9688-1efbeab46622",
   "metadata": {},
   "outputs": [
    {
     "name": "stdout",
     "output_type": "stream",
     "text": [
      "[ 96 102 108 114 120 126]\n"
     ]
    }
   ],
   "source": [
    "# Row Wise Sum\n",
    "print(np.sum(array1,axis=0))"
   ]
  },
  {
   "cell_type": "code",
   "execution_count": 23,
   "id": "770ab844-ce04-45a0-b920-b18344e6abca",
   "metadata": {},
   "outputs": [
    {
     "name": "stdout",
     "output_type": "stream",
     "text": [
      "[ 21  57  93 129 165 201]\n"
     ]
    }
   ],
   "source": [
    "# Column Wise Sum\n",
    "print(np.sum(array1,axis=1))"
   ]
  },
  {
   "cell_type": "markdown",
   "id": "8b3ea1cb-04ec-4bea-bd10-58fec2f4462f",
   "metadata": {},
   "source": [
    "----------\n",
    "### **Cumulative Operations**\n",
    "- These are used to calculate running total."
   ]
  },
  {
   "cell_type": "code",
   "execution_count": 24,
   "id": "91e8bf7c-da7c-4ac1-9a5f-bd171b501b1b",
   "metadata": {},
   "outputs": [
    {
     "data": {
      "text/plain": [
       "array([[ 1,  2,  3,  4,  5,  6],\n",
       "       [ 7,  8,  9, 10, 11, 12],\n",
       "       [13, 14, 15, 16, 17, 18],\n",
       "       [19, 20, 21, 22, 23, 24],\n",
       "       [25, 26, 27, 28, 29, 30],\n",
       "       [31, 32, 33, 34, 35, 36]])"
      ]
     },
     "execution_count": 24,
     "metadata": {},
     "output_type": "execute_result"
    }
   ],
   "source": [
    "array1"
   ]
  },
  {
   "cell_type": "code",
   "execution_count": 25,
   "id": "02441d2a-87ca-474d-9c7d-62cf83e6d726",
   "metadata": {},
   "outputs": [
    {
     "name": "stdout",
     "output_type": "stream",
     "text": [
      "[  1   3   6  10  15  21  28  36  45  55  66  78  91 105 120 136 153 171\n",
      " 190 210 231 253 276 300 325 351 378 406 435 465 496 528 561 595 630 666]\n"
     ]
    }
   ],
   "source": [
    "print(np.cumsum(array1))"
   ]
  },
  {
   "cell_type": "code",
   "execution_count": 26,
   "id": "270c99b3-2507-478d-9b21-52a3c29c2b03",
   "metadata": {},
   "outputs": [
    {
     "name": "stdout",
     "output_type": "stream",
     "text": [
      "[          1           2           6          24         120         720\n",
      "        5040       40320      362880     3628800    39916800   479001600\n",
      "  1932053504  1278945280  2004310016  2004189184  -288522240  -898433024\n",
      "   109641728 -2102132736 -1195114496  -522715136   862453760  -775946240\n",
      "  2076180480 -1853882368  1484783616 -1375731712 -1241513984  1409286144\n",
      "   738197504 -2147483648 -2147483648           0           0           0]\n"
     ]
    }
   ],
   "source": [
    "print(np.cumprod(array1))"
   ]
  },
  {
   "cell_type": "markdown",
   "id": "83cbaffd-bf55-41e3-a579-7e9116bcebc0",
   "metadata": {},
   "source": [
    "-----------\n",
    "### **Conditional Based Choices**"
   ]
  },
  {
   "cell_type": "code",
   "execution_count": 35,
   "id": "dadc861f-d540-431f-a77c-8b6588c78394",
   "metadata": {},
   "outputs": [],
   "source": [
    "array = np.array([[1,2],[10,20]])"
   ]
  },
  {
   "cell_type": "code",
   "execution_count": 36,
   "id": "c5340436-ba8f-4ed4-adc5-f96bf35d4599",
   "metadata": {},
   "outputs": [],
   "source": [
    "# Where"
   ]
  },
  {
   "cell_type": "code",
   "execution_count": 37,
   "id": "264b8274-6597-481c-b626-a9a266906e7f",
   "metadata": {},
   "outputs": [
    {
     "data": {
      "text/plain": [
       "array([['low', 'low', 'low', 'low', 'low', 'low'],\n",
       "       ['low', 'low', 'low', 'high', 'high', 'high'],\n",
       "       ['high', 'high', 'high', 'high', 'high', 'high'],\n",
       "       ['high', 'high', 'high', 'high', 'high', 'high'],\n",
       "       ['high', 'high', 'high', 'high', 'high', 'high'],\n",
       "       ['high', 'high', 'high', 'high', 'high', 'high']], dtype='<U4')"
      ]
     },
     "execution_count": 37,
     "metadata": {},
     "output_type": "execute_result"
    }
   ],
   "source": [
    "result = np.where(array1<10,\"low\",\"high\")\n",
    "result"
   ]
  },
  {
   "cell_type": "code",
   "execution_count": 38,
   "id": "0f5d4f57-e4fa-4795-8140-d4f912bbc64b",
   "metadata": {},
   "outputs": [
    {
     "data": {
      "text/plain": [
       "array([[False, False, False, False, False, False],\n",
       "       [False, False, False, False, False, False],\n",
       "       [False, False, False,  True,  True,  True],\n",
       "       [ True,  True,  True,  True,  True,  True],\n",
       "       [ True,  True,  True,  True,  True,  True],\n",
       "       [ True,  True,  True,  True, False, False]])"
      ]
     },
     "execution_count": 38,
     "metadata": {},
     "output_type": "execute_result"
    }
   ],
   "source": [
    "# For Value That are greater than 15 and less than 35\n",
    "result1 = np.logical_and(array1>15,array1<35)\n",
    "result1"
   ]
  },
  {
   "cell_type": "code",
   "execution_count": 40,
   "id": "9ee85fd5-3c77-4a23-b29e-5b24e70b769f",
   "metadata": {},
   "outputs": [
    {
     "name": "stdout",
     "output_type": "stream",
     "text": [
      "[[1 0]\n",
      " [1 1]]\n"
     ]
    }
   ],
   "source": [
    "print(np.argwhere(array>5))"
   ]
  },
  {
   "cell_type": "code",
   "execution_count": 42,
   "id": "177c04c1-4fef-4c0e-9fe7-76ee7b784b48",
   "metadata": {},
   "outputs": [
    {
     "data": {
      "text/plain": [
       "array([[False, False, False, False, False, False],\n",
       "       [False, False, False, False, False, False],\n",
       "       [False, False, False,  True,  True,  True],\n",
       "       [ True,  True,  True,  True,  True,  True],\n",
       "       [ True,  True,  True,  True,  True,  True],\n",
       "       [ True,  True,  True,  True,  True,  True]])"
      ]
     },
     "execution_count": 42,
     "metadata": {},
     "output_type": "execute_result"
    }
   ],
   "source": [
    "# For Value That are greater than 15 or less than 35\n",
    "result1 = np.logical_or(array1>15,array1>20)\n",
    "result1"
   ]
  },
  {
   "cell_type": "markdown",
   "id": "d461d499-04c1-4ed1-a124-7a1867589c28",
   "metadata": {},
   "source": [
    "----------\n",
    "\n",
    "### **BroadCasting**\n",
    "- It means stretching the smaller array to match the shape of the bigger array\n",
    "- Numpy compares the shapes of the arrays from the end (right to left) and follow these rules:\n",
    "#### **Rules**\n",
    "**1.** If Shapes are equal they are compatible.</br>\n",
    "**2.** If one is 1, It can be stretched to match the other.</br>\n",
    "**3.** If shapes are different Not 1 or equal --> Error"
   ]
  },
  {
   "cell_type": "code",
   "execution_count": 44,
   "id": "2d333cae-f09e-4b42-ad5d-79f0275b5002",
   "metadata": {},
   "outputs": [],
   "source": [
    "array1 = np.array([[100,200],[400,600]])\n",
    "array2 = array1 + 50"
   ]
  },
  {
   "cell_type": "code",
   "execution_count": 47,
   "id": "68d7d07b-c479-4e43-aefd-a79367ed9eca",
   "metadata": {},
   "outputs": [
    {
     "name": "stdout",
     "output_type": "stream",
     "text": [
      "[[150 250]\n",
      " [450 650]]\n",
      "(2, 2)\n"
     ]
    }
   ],
   "source": [
    "print(array2)\n",
    "print(array2.shape)"
   ]
  },
  {
   "cell_type": "markdown",
   "id": "fcc3d138-ccf2-4f8c-9dc7-7f6178aab528",
   "metadata": {},
   "source": [
    "#### **Example 1: Add scalar to array**"
   ]
  },
  {
   "cell_type": "code",
   "execution_count": 17,
   "id": "a457fca0-8698-4245-86ac-71b7903c3c01",
   "metadata": {},
   "outputs": [
    {
     "name": "stdout",
     "output_type": "stream",
     "text": [
      "[6 7 8]\n"
     ]
    }
   ],
   "source": [
    "import numpy as np\n",
    "a = np.array([1, 2, 3])\n",
    "b = 5\n",
    "print(a + b)\n",
    "# Here, b is a scalar. It is broadcast to [5, 5, 5]."
   ]
  },
  {
   "cell_type": "markdown",
   "id": "6ae406b5-c050-45d7-b13b-6ae7c43eb45d",
   "metadata": {},
   "source": [
    "#### **Example2: 1D with 2D Array**"
   ]
  },
  {
   "cell_type": "code",
   "execution_count": 18,
   "id": "0a6f5f64-b54f-43d7-b0f7-1b96e2a43e64",
   "metadata": {},
   "outputs": [
    {
     "name": "stdout",
     "output_type": "stream",
     "text": [
      "[[11 22 33]\n",
      " [14 25 36]]\n"
     ]
    }
   ],
   "source": [
    "A = np.array([[1, 2, 3], [4, 5, 6]])  # shape (2, 3)\n",
    "B = np.array([10, 20, 30])           # shape (3,)\n",
    "print(A + B)  # shape becomes (2, 3)"
   ]
  },
  {
   "cell_type": "code",
   "execution_count": 19,
   "id": "9836dfd8-757c-491f-83b4-1ab6fbe99ff0",
   "metadata": {},
   "outputs": [
    {
     "name": "stdout",
     "output_type": "stream",
     "text": [
      "[[11 22 33]\n",
      " [14 25 36]\n",
      " [17 28 39]]\n"
     ]
    }
   ],
   "source": [
    "A = np.array([[1, 2, 3], [4, 5, 6],[7,8,9]])  # shape (2, 3)\n",
    "B = np.array([10, 20, 30])           # shape (3,)\n",
    "print(A + B)  # shape becomes (2, 3)"
   ]
  },
  {
   "cell_type": "code",
   "execution_count": null,
   "id": "b842f721-6d01-4625-9a9c-9c9b2711ca9c",
   "metadata": {},
   "outputs": [],
   "source": [
    "#### ****"
   ]
  },
  {
   "cell_type": "markdown",
   "id": "3764832f-4220-42ec-bd71-76cd471f1c01",
   "metadata": {},
   "source": [
    "-------------------"
   ]
  },
  {
   "cell_type": "markdown",
   "id": "4dffff9d-5aa0-4866-a5f3-efafd5b388e9",
   "metadata": {},
   "source": [
    "### **Vectorization**\n",
    "- Replacing Loops operations with single function\n",
    "- np.vectorize() --> Convert a regular function to be applied on an array.\n",
    "\n",
    "**It is Used**\n",
    "- When you apply a custom function to every element\n",
    "- For readability\n",
    "- It is not faster than loop\n",
    "- It only makes syntax cleaner, but doesnot improve speed like real vectorized numpy functions."
   ]
  },
  {
   "cell_type": "code",
   "execution_count": 48,
   "id": "edd2764c-ae03-4435-b72d-24318d12ad60",
   "metadata": {},
   "outputs": [],
   "source": [
    "def square(x):\n",
    "    return x*x\n",
    "vfunc = np.vectorize(square)"
   ]
  },
  {
   "cell_type": "code",
   "execution_count": 50,
   "id": "e702a8ee-e917-4740-9dbb-7adefd6722cd",
   "metadata": {},
   "outputs": [
    {
     "data": {
      "text/plain": [
       "array([[ 10000,  40000],\n",
       "       [160000, 360000]])"
      ]
     },
     "execution_count": 50,
     "metadata": {},
     "output_type": "execute_result"
    }
   ],
   "source": [
    "vfunc(array1)"
   ]
  },
  {
   "cell_type": "markdown",
   "id": "49361be2-e4ff-4275-b05a-e06acec5f4df",
   "metadata": {},
   "source": [
    "-----------\n",
    "### **Handling Missing Values**\n"
   ]
  },
  {
   "cell_type": "code",
   "execution_count": 51,
   "id": "e8a41319-ba4c-437b-a8f2-24a1a1fe218c",
   "metadata": {},
   "outputs": [
    {
     "data": {
      "text/plain": [
       "array([ 1.,  2., nan,  4.])"
      ]
     },
     "execution_count": 51,
     "metadata": {},
     "output_type": "execute_result"
    }
   ],
   "source": [
    "array1 = np.array([1,2,np.nan,4])\n",
    "array1"
   ]
  },
  {
   "cell_type": "code",
   "execution_count": 52,
   "id": "9365dc01-f737-45ae-8aba-414d06ffa6ec",
   "metadata": {},
   "outputs": [],
   "source": [
    "# np.inf and -np.inf --> Represents Positive and Negative Infinites"
   ]
  },
  {
   "cell_type": "code",
   "execution_count": 53,
   "id": "f8e336d0-b827-4d20-99a2-b01ae7bce4eb",
   "metadata": {},
   "outputs": [
    {
     "data": {
      "text/plain": [
       "array([ 1.,  2., inf,  4.])"
      ]
     },
     "execution_count": 53,
     "metadata": {},
     "output_type": "execute_result"
    }
   ],
   "source": [
    "array1 = np.array([1,2,np.inf,4])\n",
    "array1"
   ]
  },
  {
   "cell_type": "code",
   "execution_count": 54,
   "id": "eb02b8d2-7853-47ca-9c55-d948c19d89cc",
   "metadata": {},
   "outputs": [],
   "source": [
    "# np.isnan\n",
    "# np.isinf\n",
    "# np.isinfinite\n",
    "\n",
    "# These are Functions Used to detect any null values, finite or infinite values"
   ]
  },
  {
   "cell_type": "code",
   "execution_count": 55,
   "id": "ac841c82-f1a8-4011-bac3-09c80613abdd",
   "metadata": {},
   "outputs": [
    {
     "data": {
      "text/plain": [
       "array([False, False,  True, False])"
      ]
     },
     "execution_count": 55,
     "metadata": {},
     "output_type": "execute_result"
    }
   ],
   "source": [
    "array1 = np.array([1,2,np.nan,4])\n",
    "np.isnan(array1)"
   ]
  },
  {
   "cell_type": "code",
   "execution_count": 60,
   "id": "fb371754-33ea-442a-9912-6835168796a4",
   "metadata": {},
   "outputs": [
    {
     "data": {
      "text/plain": [
       "array([False, False,  True, False])"
      ]
     },
     "execution_count": 60,
     "metadata": {},
     "output_type": "execute_result"
    }
   ],
   "source": [
    "array2 = np.array([1,2,np.inf,4])\n",
    "np.isinf(array2)"
   ]
  },
  {
   "cell_type": "code",
   "execution_count": 61,
   "id": "da9b31dd-1e65-4d40-8eb9-7dfb5c5066fc",
   "metadata": {},
   "outputs": [
    {
     "data": {
      "text/plain": [
       "array([ 1.00000000e+000,  2.00000000e+000, -1.79769313e+308,\n",
       "        4.00000000e+000])"
      ]
     },
     "execution_count": 61,
     "metadata": {},
     "output_type": "execute_result"
    }
   ],
   "source": [
    "array4 = np.nan_to_num(array1)\n",
    "array4"
   ]
  },
  {
   "cell_type": "markdown",
   "id": "319aa388-e3c3-4bd0-a696-3ece6698148c",
   "metadata": {},
   "source": [
    "----------"
   ]
  },
  {
   "cell_type": "markdown",
   "id": "43bf27ea-b5b7-49fb-a0f8-809e86282f4a",
   "metadata": {},
   "source": [
    "### **Matrix Operations**"
   ]
  },
  {
   "cell_type": "markdown",
   "id": "5daa2591-0d65-44aa-9053-45523658f557",
   "metadata": {},
   "source": [
    "#### **1) dot()**"
   ]
  },
  {
   "cell_type": "code",
   "execution_count": 17,
   "id": "dd75b4a2-e80b-4bc9-aa59-fe234b09552f",
   "metadata": {},
   "outputs": [
    {
     "name": "stdout",
     "output_type": "stream",
     "text": [
      "[[32]]\n"
     ]
    }
   ],
   "source": [
    "array1 = np.array([[1,2,3]])  # (1,3)\n",
    "array2 = np.array([[4],[5],[6]])  # (3,1)\n",
    "result = np.dot(array1,array2)  # (1,1)\n",
    "print(result)"
   ]
  },
  {
   "cell_type": "code",
   "execution_count": 18,
   "id": "b45ce86d-0b13-4972-a2aa-b0a7a6e8e531",
   "metadata": {},
   "outputs": [
    {
     "name": "stdout",
     "output_type": "stream",
     "text": [
      "[[11 14 17 20]\n",
      " [29 38 47 56]\n",
      " [41 54 67 80]]\n"
     ]
    }
   ],
   "source": [
    "array1 = np.array([[1,2],[4,5],[6,7]])   # (3,2)\n",
    "array2 = np.array([[1,2,3,4],[5,6,7,8]]) # (2,3)\n",
    "result = np.dot(array1,array2)  # (3,3)\n",
    "print(result)"
   ]
  },
  {
   "cell_type": "markdown",
   "id": "d328dfaa-69f9-43cc-a3c9-2b457c5521b1",
   "metadata": {},
   "source": [
    "#### **2) transpose()**"
   ]
  },
  {
   "cell_type": "code",
   "execution_count": 20,
   "id": "7511c662-7364-4938-b537-dba979c4d7c6",
   "metadata": {},
   "outputs": [
    {
     "name": "stdout",
     "output_type": "stream",
     "text": [
      "[[1 6]\n",
      " [2 7]\n",
      " [4 9]]\n"
     ]
    }
   ],
   "source": [
    "array1 = np.array([[1,2,4],[6,7,9]])\n",
    "print(np.transpose(array1))"
   ]
  },
  {
   "cell_type": "markdown",
   "id": "eca417a9-2735-4e60-93e4-e6a87b170b67",
   "metadata": {},
   "source": [
    "----------------"
   ]
  },
  {
   "cell_type": "markdown",
   "id": "86c1d493-d384-4be6-9b0c-70b3c719caed",
   "metadata": {},
   "source": [
    "### **Solving Linear Equation Using np.linalg.solve()**"
   ]
  },
  {
   "cell_type": "markdown",
   "id": "4db1b166-8424-45dd-806f-ebdd1901564e",
   "metadata": {},
   "source": [
    "`````python\n",
    "Example: 2x + y = 8\n",
    "         3x + 2y = 13"
   ]
  },
  {
   "cell_type": "code",
   "execution_count": 22,
   "id": "60c426e6-4ed6-4264-b54c-07f46fc5c60d",
   "metadata": {},
   "outputs": [
    {
     "name": "stdout",
     "output_type": "stream",
     "text": [
      "[3. 2.]\n"
     ]
    }
   ],
   "source": [
    "array1 = np.array([[2,1],[3,2]])\n",
    "array2 = np.array([8,13])\n",
    "\n",
    "print(np.linalg.solve(array1,array2))  # x = 3. y = 2."
   ]
  },
  {
   "cell_type": "markdown",
   "id": "de5ba1b6-2dc9-4b47-86a1-c3cd8a1d00bc",
   "metadata": {},
   "source": [
    "------------------"
   ]
  },
  {
   "cell_type": "markdown",
   "id": "c3d98911-c095-4fd4-a859-225ebdb66e63",
   "metadata": {},
   "source": [
    "### **File I/O Operations**"
   ]
  },
  {
   "cell_type": "markdown",
   "id": "9be320dd-cb7e-477d-805b-8275d61f46db",
   "metadata": {},
   "source": [
    "#### **1) np.save()**"
   ]
  },
  {
   "cell_type": "code",
   "execution_count": 23,
   "id": "def30d8d-5d35-476d-8c51-3f27e7b6cf45",
   "metadata": {},
   "outputs": [],
   "source": [
    "array1 = np.array([[1,2,4],[6,7,9]])\n",
    "np.save('Hello.npy',array1)"
   ]
  },
  {
   "cell_type": "markdown",
   "id": "d9540d35-0c1f-4194-8eb3-b62e6e1aeeda",
   "metadata": {},
   "source": [
    "#### **2) np.load()**"
   ]
  },
  {
   "cell_type": "code",
   "execution_count": 26,
   "id": "51a2e928-70ae-4efb-aab4-51765e4ebaba",
   "metadata": {},
   "outputs": [
    {
     "data": {
      "text/plain": [
       "array([[1, 2, 4],\n",
       "       [6, 7, 9]])"
      ]
     },
     "execution_count": 26,
     "metadata": {},
     "output_type": "execute_result"
    }
   ],
   "source": [
    "loaded = np.load('Hello.npy')\n",
    "loaded"
   ]
  },
  {
   "cell_type": "markdown",
   "id": "f767ac66-24e1-4d26-94ac-08a2eef1c5ea",
   "metadata": {},
   "source": [
    "#### **3) np.loadtxt**"
   ]
  },
  {
   "cell_type": "markdown",
   "id": "7fabd85b-2aec-4286-a26b-42093065888a",
   "metadata": {},
   "source": [
    "````python\n",
    "data = np.loadtxt('data.txt')    # Default: Space Delimeter\n",
    "data = np.loadtxt('data.txt',delimter = ',')    # For CSV File "
   ]
  },
  {
   "cell_type": "markdown",
   "id": "7a936b93-3b16-4887-8237-3a99eb0c24ef",
   "metadata": {},
   "source": [
    "----------------"
   ]
  },
  {
   "cell_type": "markdown",
   "id": "5282938f-2f25-45eb-89fe-e2b48f70dc48",
   "metadata": {},
   "source": [
    "### **Handling Missing Values**"
   ]
  },
  {
   "cell_type": "markdown",
   "id": "5aa458e8-5ec0-4bbc-82a1-ef4fb3f8268a",
   "metadata": {},
   "source": [
    "#### **1) np.isnan()**"
   ]
  },
  {
   "cell_type": "code",
   "execution_count": 28,
   "id": "6f4375e0-2f2f-4c7a-90bf-0237d368b5b2",
   "metadata": {},
   "outputs": [
    {
     "name": "stdout",
     "output_type": "stream",
     "text": [
      "[[False False  True False]]\n"
     ]
    }
   ],
   "source": [
    "array1 = np.array([[1,2,np.nan,4]])\n",
    "print(np.isnan(array1))"
   ]
  },
  {
   "cell_type": "code",
   "execution_count": 29,
   "id": "9c7c3cf0-7baa-40a5-9844-feeb19b275d0",
   "metadata": {},
   "outputs": [
    {
     "name": "stdout",
     "output_type": "stream",
     "text": [
      "[False False  True False]\n"
     ]
    }
   ],
   "source": [
    "array1 = np.array([1,2,np.nan,4])\n",
    "print(np.isnan(array1))"
   ]
  },
  {
   "cell_type": "markdown",
   "id": "87dedeb1-51c7-4b94-b71f-458709a07c49",
   "metadata": {},
   "source": [
    "#### **2) np.nan_to_num()**"
   ]
  },
  {
   "cell_type": "code",
   "execution_count": 30,
   "id": "ace04e12-02e0-41e8-a280-235668902505",
   "metadata": {},
   "outputs": [
    {
     "name": "stdout",
     "output_type": "stream",
     "text": [
      "[[1. 2. 0. 4.]]\n"
     ]
    }
   ],
   "source": [
    "array1 = np.array([[1,2,np.nan,4]])\n",
    "print(np.nan_to_num(array1,nan=0))"
   ]
  },
  {
   "cell_type": "code",
   "execution_count": 31,
   "id": "a95855aa-d003-4643-b45f-48ff8c266312",
   "metadata": {},
   "outputs": [
    {
     "name": "stdout",
     "output_type": "stream",
     "text": [
      "[[1. 2. 0. 4.]\n",
      " [0. 6. 7. 9.]]\n"
     ]
    }
   ],
   "source": [
    "array1 = np.array([[1,2,np.nan,4],[np.nan,6,7,9]])\n",
    "print(np.nan_to_num(array1,nan=0))"
   ]
  },
  {
   "cell_type": "markdown",
   "id": "c6e6656c-3b65-4e25-bbec-2cb7ed3a6eec",
   "metadata": {},
   "source": [
    "------------------"
   ]
  },
  {
   "cell_type": "markdown",
   "id": "195fe3a0-61b8-4a6c-aac7-3fd5ffb835b0",
   "metadata": {},
   "source": [
    "### **Broad Casting**"
   ]
  },
  {
   "cell_type": "code",
   "execution_count": 1,
   "id": "8a318d16-a682-460a-9652-7c032b343bce",
   "metadata": {},
   "outputs": [],
   "source": [
    "import numpy as np"
   ]
  },
  {
   "cell_type": "code",
   "execution_count": 9,
   "id": "453dbb42-00e5-41fb-b7e3-dcfcf2f4bce1",
   "metadata": {},
   "outputs": [
    {
     "data": {
      "text/plain": [
       "array([ 7,  8, 10])"
      ]
     },
     "execution_count": 9,
     "metadata": {},
     "output_type": "execute_result"
    }
   ],
   "source": [
    "array1 = np.array(6)\n",
    "array2 = np.array([1,2,4])\n",
    "array1+array2"
   ]
  },
  {
   "cell_type": "code",
   "execution_count": 13,
   "id": "168388c9-9519-44ab-9a74-1d4a858b325f",
   "metadata": {},
   "outputs": [
    {
     "data": {
      "text/plain": [
       "array([[ 7,  8, 10],\n",
       "       [12, 13, 14]])"
      ]
     },
     "execution_count": 13,
     "metadata": {},
     "output_type": "execute_result"
    }
   ],
   "source": [
    "array1 = np.array(6)\n",
    "array2 = np.array([[1,2,4],[6,7,8]]) \n",
    "array1 + array2"
   ]
  },
  {
   "cell_type": "code",
   "execution_count": 15,
   "id": "e5604eea-7708-463b-bcf1-24e6ccd5c982",
   "metadata": {},
   "outputs": [
    {
     "name": "stdout",
     "output_type": "stream",
     "text": [
      "(3,)\n",
      "(2, 3)\n"
     ]
    }
   ],
   "source": []
  },
  {
   "cell_type": "code",
   "execution_count": null,
   "id": "44326b9c-bf8b-4152-9ff6-9a20d9c22d2e",
   "metadata": {},
   "outputs": [],
   "source": []
  }
 ],
 "metadata": {
  "kernelspec": {
   "display_name": "Python 3 (ipykernel)",
   "language": "python",
   "name": "python3"
  },
  "language_info": {
   "codemirror_mode": {
    "name": "ipython",
    "version": 3
   },
   "file_extension": ".py",
   "mimetype": "text/x-python",
   "name": "python",
   "nbconvert_exporter": "python",
   "pygments_lexer": "ipython3",
   "version": "3.11.7"
  },
  "widgets": {
   "application/vnd.jupyter.widget-state+json": {
    "state": {},
    "version_major": 2,
    "version_minor": 0
   }
  }
 },
 "nbformat": 4,
 "nbformat_minor": 5
}

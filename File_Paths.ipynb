{
 "cells": [
  {
   "cell_type": "markdown",
   "id": "df98651f-e6e5-480f-a6e4-5345d4c604f6",
   "metadata": {},
   "source": [
    "## **Part 1: Understanding File Paths**\n",
    "----------------------\n",
    "### **There are two types of file paths:**\n",
    "\n",
    "#### **1. Absolute Path:**\n",
    "````python\n",
    "- It is the complete path from the root directory to the desired file or folder.\n",
    "- Always starts from the root (e.g., C:\\ or / in Linux).\n",
    "- Example (Windows): C:\\Users\\Raksha\\Documents\\project\\data.csv\n",
    "- Example (Linux/Mac): /home/raksha/Documents/project/data.csv"
   ]
  },
  {
   "cell_type": "markdown",
   "id": "4e4adb69-93e3-45e2-98ef-4f5391caaf75",
   "metadata": {},
   "source": [
    "#### **2. Relative Path:**\n",
    "````python\n",
    "- It is relative to the current working directory (CWD).\n",
    "- More portable and commonly used in scripts.\n",
    "- Example: ./data.csv or ../project/data.csv"
   ]
  },
  {
   "cell_type": "markdown",
   "id": "1c6ef981-bcfd-4a7f-a2f8-b1fab533b25f",
   "metadata": {},
   "source": [
    "---------------------------\n",
    "\n",
    "## **Part 2: Basic os Module Functions**\n",
    "````python\n",
    "- Python’s os module provides functions to interact with the operating system.\n",
    "- Let’s see these with practical examples:\n",
    "- First, import the os module:"
   ]
  },
  {
   "cell_type": "markdown",
   "id": "8d7e0e22-1537-4ffe-8dc2-c9b8a41014f8",
   "metadata": {},
   "source": [
    "````python\n",
    "import os"
   ]
  },
  {
   "cell_type": "markdown",
   "id": "bbf108fc-fd10-4f8c-8ffe-ec6eea79375f",
   "metadata": {},
   "source": [
    "#### **1. Get Current Working Directory:**"
   ]
  },
  {
   "cell_type": "markdown",
   "id": "540fbfcd-bd9b-48be-a9b0-3ca7f9197395",
   "metadata": {},
   "source": [
    "````python\n",
    "cwd = os.getcwd()\n",
    "print(\"Current Working Directory:\", cwd)"
   ]
  },
  {
   "cell_type": "markdown",
   "id": "f21a128f-e9eb-43ed-a481-f66c59a23060",
   "metadata": {},
   "source": [
    "#### **2 A). Change Directory:**"
   ]
  },
  {
   "cell_type": "markdown",
   "id": "7e9b94ce-b31a-4600-9b99-f397cb957666",
   "metadata": {},
   "source": [
    "````python\n",
    "os.chdir(\"..\")  # Goes one level up\n",
    "print(\"Changed Directory:\", os.getcwd())"
   ]
  },
  {
   "cell_type": "markdown",
   "id": "92337a39-6a82-487b-849f-5cafa50d1e7d",
   "metadata": {},
   "source": [
    "#### **2 B). Change Directory: By Using Absolute Path**\n"
   ]
  },
  {
   "cell_type": "markdown",
   "id": "4ff8808e-a8e0-4be7-9d0c-1334a359eb8b",
   "metadata": {},
   "source": [
    "````python\n",
    "import os\n",
    "os.chdir(\"/path/to/desired/directory\")\n",
    "print(\"Changed Directory:\", os.getcwd())\n"
   ]
  },
  {
   "cell_type": "markdown",
   "id": "29f06796-4298-4128-bb88-341d9bb6d607",
   "metadata": {},
   "source": [
    "#### **3. List Files and Directories:**"
   ]
  },
  {
   "cell_type": "markdown",
   "id": "b921dd97-9aa6-47eb-836d-f63d6ee5c832",
   "metadata": {},
   "source": [
    "````python\n",
    "files = os.listdir()  # List items in current directory\n",
    "print(\"Files and Folders:\", files)"
   ]
  },
  {
   "cell_type": "markdown",
   "id": "9e09b59f-3da1-498f-8da9-def3c8f50f84",
   "metadata": {},
   "source": [
    "#### **4. Create a Directory:**"
   ]
  },
  {
   "cell_type": "markdown",
   "id": "c648b552-b9cb-42b1-a3dc-74fee5995a2c",
   "metadata": {},
   "source": [
    "````python\n",
    "os.mkdir(\"new_folder\")"
   ]
  },
  {
   "cell_type": "markdown",
   "id": "86b71c9a-cba8-46c7-b4e8-342aafe8cf9f",
   "metadata": {},
   "source": [
    "#### **5. Create Nested Directories:**"
   ]
  },
  {
   "cell_type": "markdown",
   "id": "c28f63c4-b65d-410d-8b48-7ee1c1943b38",
   "metadata": {},
   "source": [
    "````python\n",
    "os.makedirs(\"folder1/folder2/folder3\")"
   ]
  },
  {
   "cell_type": "markdown",
   "id": "9d14eca9-fb68-4a41-a04b-46216dcd3cf9",
   "metadata": {},
   "source": [
    "#### **6. Remove a Directory:**"
   ]
  },
  {
   "cell_type": "markdown",
   "id": "b73eb6ed-b185-4085-bad1-a556d3c73371",
   "metadata": {},
   "source": [
    "````python\n",
    "os.rmdir(\"new_folder\")  # Only if it's empty"
   ]
  },
  {
   "cell_type": "markdown",
   "id": "1260f3c8-6eab-4a48-9714-3db37c3ba6c8",
   "metadata": {},
   "source": [
    "#### **7. Remove Nested Directories:**"
   ]
  },
  {
   "cell_type": "markdown",
   "id": "1700ca00-e866-47b6-a980-173c89fe1ee3",
   "metadata": {},
   "source": [
    "````python\n",
    "os.removedirs(\"folder1/folder2/folder3\")  # Removes all if empty"
   ]
  },
  {
   "cell_type": "markdown",
   "id": "ac24c19f-a906-4707-8fd4-ae39d10f1467",
   "metadata": {},
   "source": [
    "#### **8. Check if Path Exists:**"
   ]
  },
  {
   "cell_type": "markdown",
   "id": "84f12773-88cd-4a5f-a330-10cdcf362dc0",
   "metadata": {},
   "source": [
    "```python\n",
    "print(os.path.exists(\"data.csv\"))  # True or False"
   ]
  },
  {
   "cell_type": "markdown",
   "id": "b50ada2c-15cd-435c-8984-3cc200af3eb6",
   "metadata": {},
   "source": [
    "#### **9. Join Paths Safely:**"
   ]
  },
  {
   "cell_type": "markdown",
   "id": "09fcebae-6163-4f5c-a136-65a570976d2d",
   "metadata": {},
   "source": [
    "````python\n",
    "path = os.path.join(\"folder\", \"subfolder\", \"file.txt\")\r\n",
    "print(\"Joined Path:\", path)\r\n"
   ]
  },
  {
   "cell_type": "markdown",
   "id": "74f06866-f82e-4633-be81-e6b960e28d97",
   "metadata": {},
   "source": [
    "#### **10. Split a Path:**"
   ]
  },
  {
   "cell_type": "code",
   "execution_count": null,
   "id": "b6ae68f3-8045-42e6-b4d1-ba8b335ad1e4",
   "metadata": {},
   "outputs": [],
   "source": []
  }
 ],
 "metadata": {
  "kernelspec": {
   "display_name": "Python 3 (ipykernel)",
   "language": "python",
   "name": "python3"
  },
  "language_info": {
   "codemirror_mode": {
    "name": "ipython",
    "version": 3
   },
   "file_extension": ".py",
   "mimetype": "text/x-python",
   "name": "python",
   "nbconvert_exporter": "python",
   "pygments_lexer": "ipython3",
   "version": "3.11.7"
  },
  "widgets": {
   "application/vnd.jupyter.widget-state+json": {
    "state": {},
    "version_major": 2,
    "version_minor": 0
   }
  }
 },
 "nbformat": 4,
 "nbformat_minor": 5
}

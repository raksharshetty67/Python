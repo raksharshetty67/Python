{
 "cells": [
  {
   "cell_type": "markdown",
   "id": "7a92f4a0-57c2-4d30-90c8-4ecab28532be",
   "metadata": {},
   "source": [
    "## **Working With Files**\n",
    "--------------------------"
   ]
  },
  {
   "cell_type": "markdown",
   "id": "4eaba3ec-e16f-46d5-a910-751f37711e2f",
   "metadata": {},
   "source": [
    "### **1. Writing to a File**\n",
    "\n",
    "▶ Mode: \"w\" = write</br>\n",
    "▶ This will create the file if it doesn't exist, or replace all contents if it does"
   ]
  },
  {
   "cell_type": "markdown",
   "id": "285b32d3-b1e8-4442-a037-1191541778fe",
   "metadata": {},
   "source": [
    "#### **Example:**"
   ]
  },
  {
   "cell_type": "code",
   "execution_count": 5,
   "id": "12d628c5-8f5d-43d0-bdaa-c630bd6b4854",
   "metadata": {},
   "outputs": [
    {
     "name": "stdout",
     "output_type": "stream",
     "text": [
      "<_io.TextIOWrapper name='data.txt' mode='w' encoding='cp1252'>\n"
     ]
    }
   ],
   "source": [
    "with open(\"data.txt\", \"w\") as file:\n",
    "    file.write(\"Hello World!\\n\")\n",
    "    file.write(\"Python is awesome.\\n\")\n",
    "    print(file)"
   ]
  },
  {
   "cell_type": "markdown",
   "id": "519a4557-8b07-41e6-95d8-e4bba987b231",
   "metadata": {},
   "source": [
    "#### **This writes two lines to the file. If the file already had something, it will be cleared first.**"
   ]
  },
  {
   "cell_type": "markdown",
   "id": "db60bc22-f819-4a19-a21e-4be2cc173d26",
   "metadata": {},
   "source": [
    "------------"
   ]
  },
  {
   "cell_type": "markdown",
   "id": "e272203d-e19d-4933-b873-f648136b1c48",
   "metadata": {},
   "source": [
    "### **2. Appending to a File**\n",
    "\n",
    "▶ Mode: \"a\" = append</br>\n",
    "▶ This will add content at the end of the file without removing existing data.\n",
    "\n",
    "#### **Example:**"
   ]
  },
  {
   "cell_type": "code",
   "execution_count": 7,
   "id": "4025345c-b03d-4ca4-ad88-a8e0012895d5",
   "metadata": {},
   "outputs": [
    {
     "name": "stdout",
     "output_type": "stream",
     "text": [
      "<_io.TextIOWrapper name='data.txt' mode='a' encoding='cp1252'>\n"
     ]
    }
   ],
   "source": [
    "with open(\"data.txt\", \"a\") as file:\n",
    "    file.write(\"This line was added later.\\n\")\n",
    "    print(file)"
   ]
  },
  {
   "cell_type": "markdown",
   "id": "92864ed0-c784-4c7f-a703-5bc01e2a5b27",
   "metadata": {},
   "source": [
    "#### **The new line is added after existing content.**\n",
    "-----------"
   ]
  },
  {
   "cell_type": "markdown",
   "id": "f987ef95-58c8-455c-8418-28a06710e247",
   "metadata": {},
   "source": [
    "## **3. Reading from a File**\n",
    "\n",
    "▶ Mode: \"r\" = read</br>\n",
    "▶ This is used to view what's inside a file.\n",
    "\n",
    "#### **Example:**"
   ]
  },
  {
   "cell_type": "code",
   "execution_count": 8,
   "id": "cc76fe51-5723-47ed-adf9-5809274f26a6",
   "metadata": {},
   "outputs": [
    {
     "name": "stdout",
     "output_type": "stream",
     "text": [
      "Hello World!\n",
      "Python is awesome.\n",
      "This line was added later.\n",
      "This line was added later.\n",
      "\n"
     ]
    }
   ],
   "source": [
    "with open(\"data.txt\", \"r\") as file:\n",
    "    content = file.read()\n",
    "    print(content)"
   ]
  },
  {
   "cell_type": "markdown",
   "id": "63b4f3ea-952c-4ad0-ade2-bf2b220c4405",
   "metadata": {},
   "source": [
    "#### **To read line by line:**"
   ]
  },
  {
   "cell_type": "code",
   "execution_count": 9,
   "id": "58c50c14-eb2c-4ab0-a831-7eec25c3742a",
   "metadata": {},
   "outputs": [
    {
     "name": "stdout",
     "output_type": "stream",
     "text": [
      "Hello World!\n",
      "Python is awesome.\n",
      "This line was added later.\n",
      "This line was added later.\n"
     ]
    }
   ],
   "source": [
    "with open(\"data.txt\", \"r\") as file:\n",
    "    for line in file:\n",
    "        print(line.strip())  # .strip() removes extra newline"
   ]
  },
  {
   "cell_type": "markdown",
   "id": "b6e57d61-6b0e-4eb9-8fc2-775e7f2eb751",
   "metadata": {},
   "source": [
    "----------\n",
    "\n",
    "### **4. Updating Specific Content in a File**\n",
    "\n",
    "- To update something in a file (like changing one word), follow these steps:\n",
    "\n",
    "🔸 Read the file</br>\n",
    "🔸 Modify the content</br>\n",
    "🔸 Write back the updated content</br>\n",
    "\n",
    "**Example: Change \"Python\" to \"Java\"**</br>"
   ]
  },
  {
   "cell_type": "code",
   "execution_count": 10,
   "id": "73a9a0f3-7a5e-4d17-95ee-739d9ebb7334",
   "metadata": {},
   "outputs": [],
   "source": [
    "with open(\"data.txt\", \"r\") as file:\n",
    "    lines = file.readlines()\n",
    "\n",
    "new_lines = []\n",
    "for line in lines:\n",
    "    updated_line = line.replace(\"Python\", \"Java\")\n",
    "    new_lines.append(updated_line)\n",
    "\n",
    "with open(\"data.txt\", \"w\") as file:\n",
    "    file.writelines(new_lines)"
   ]
  },
  {
   "cell_type": "markdown",
   "id": "936a6947-618e-4cea-84d9-d4d9e9099f57",
   "metadata": {},
   "source": [
    "----------\n",
    "\n",
    "### **5. Deleting a File**\n",
    "\n",
    "- To delete the file itself:"
   ]
  },
  {
   "cell_type": "code",
   "execution_count": 11,
   "id": "300ba9d7-9932-4176-895c-4ce2f3eb5482",
   "metadata": {},
   "outputs": [
    {
     "name": "stdout",
     "output_type": "stream",
     "text": [
      "File deleted.\n"
     ]
    }
   ],
   "source": [
    "import os\n",
    "\n",
    "if os.path.exists(\"data.txt\"):\n",
    "    os.remove(\"data.txt\")\n",
    "    print(\"File deleted.\")\n",
    "else:\n",
    "    print(\"File not found.\")"
   ]
  },
  {
   "cell_type": "code",
   "execution_count": null,
   "id": "fbb3a84d-7198-41ab-8993-1fa3e8277904",
   "metadata": {},
   "outputs": [],
   "source": []
  }
 ],
 "metadata": {
  "kernelspec": {
   "display_name": "Python 3 (ipykernel)",
   "language": "python",
   "name": "python3"
  },
  "language_info": {
   "codemirror_mode": {
    "name": "ipython",
    "version": 3
   },
   "file_extension": ".py",
   "mimetype": "text/x-python",
   "name": "python",
   "nbconvert_exporter": "python",
   "pygments_lexer": "ipython3",
   "version": "3.11.7"
  },
  "widgets": {
   "application/vnd.jupyter.widget-state+json": {
    "state": {},
    "version_major": 2,
    "version_minor": 0
   }
  }
 },
 "nbformat": 4,
 "nbformat_minor": 5
}
